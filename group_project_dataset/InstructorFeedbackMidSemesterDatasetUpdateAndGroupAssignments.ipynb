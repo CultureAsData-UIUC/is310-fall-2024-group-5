{
 "cells": [
  {
   "cell_type": "markdown",
   "metadata": {},
   "source": [
    "# Instructor Feedback for Mid-Semester Dataset Update and Group Assignments to Date for Group 5\n",
    "\n",
    "Please find below three sections of feedback regarding your mid-semester dataset update and group assignments. Overall, I'm glad to see progress on the project and it seems like you are working together, which is great. I also think your choice of topic remains a rich one and I'm excited to see how you're working together to realize your proposed project. However, I have some questions about the division of labor, as well as the overall scope and documentation of your project. As a reminder, your goal is to try and create something like the datasets we have been exploring on the *Responsible Datasets in Context Project*. While I do not expect what you to produce to be as polished as what is available on the website, considering there are four of you in the group, I am hoping you can clarify some of your current choices and provide more detail on how you are envisioning your final project and achieve the stated project goals and requirements.\n",
    "\n",
    "In terms of returning feedback to the instructor, you have two options: create a new GitHub issue responding to my questions and tag me in the issue, or complete the Google form, available via Canvas, where you can update your project plan and respond to my questions or offer suggested corrections to the stated assessments. You are also welcome to use the form to provide feedback that will not be shared with the rest of your group if you think that would be helpful or want to share something with me privately."
   ]
  },
  {
   "cell_type": "markdown",
   "metadata": {},
   "source": [
    "## Load Libraries and Datasets\n",
    "\n",
    "To run this notebook, you will need to have `pandas`, `altair`, and `rich` installed. You can find instructions on how to do so in our course website."
   ]
  },
  {
   "cell_type": "code",
   "execution_count": 1,
   "metadata": {},
   "outputs": [],
   "source": [
    "import pandas as pd\n",
    "import altair as alt\n",
    "from rich.console import Console\n",
    "from rich.table import Table\n",
    "\n",
    "console = Console()\n",
    "\n",
    "# Load the data\n",
    "contributors_df = pd.read_csv(\"./datasets/contributors_group_5.csv\")\n",
    "commits_df = pd.read_csv(\"./datasets/commits_group_5.csv\")\n",
    "issues_df = pd.read_csv(\"./datasets/issues_group_5.csv\")"
   ]
  },
  {
   "cell_type": "markdown",
   "metadata": {},
   "source": [
    "## Overall Group Feedback"
   ]
  },
  {
   "cell_type": "markdown",
   "metadata": {},
   "source": [
    "Overall, your group seems to be working well together, though I notice some patterns below that I have questions about. I was glad to see that your GitHub repository has a `gitignore` file. However, I would recommend though that you update your `README.md` to describe the overall project and the structure of your repository. I also would recommend you update the repository description to be accurate for your project and add a license for the repository.\n",
    "\n",
    "I will say that while I respect and understand your current approach to dividing labor, it does make it somewhat difficult for me to assess since it seems like primarily some group members have been doing the coding and issue management (at least based on the data you will see below), whereas others are doing more of the research and data entry intensive labor. If you could please just briefly confirm that the division of labor is relatively equitable on the Google form on Canvas, then I'm happy to share the grades between all members of the group. But I would like to get that confirmation since it is not clear to me from the data, I have available.\n",
    "\n",
    "In the following graphs, you will see some of how your group has been working together from what I can tell via GitHub. I do not think this data represents all of your group's work or activities, so I would encourage you to both think about how to document work in more detail and also to contact the instructors if you feel this data is not representative of your group's work and would like other aspects to be included in your assessment."
   ]
  },
  {
   "cell_type": "markdown",
   "metadata": {},
   "source": [
    "### Contributions Per Group Member"
   ]
  },
  {
   "cell_type": "code",
   "execution_count": 2,
   "metadata": {},
   "outputs": [
    {
     "data": {
      "text/html": [
       "<pre style=\"white-space:pre;overflow-x:auto;line-height:normal;font-family:Menlo,'DejaVu Sans Mono',consolas,'Courier New',monospace\"><span style=\"font-style: italic\">               Contributors                </span>\n",
       "┏━━━━━━━━━━━━━━━┳━━━━━━━━━━━━━━━━━━━━━━━━━┓\n",
       "┃<span style=\"font-weight: bold\"> Contributor   </span>┃<span style=\"font-weight: bold\"> Number of Contributions </span>┃\n",
       "┡━━━━━━━━━━━━━━━╇━━━━━━━━━━━━━━━━━━━━━━━━━┩\n",
       "│<span style=\"color: #008080; text-decoration-color: #008080\"> yosefstifanos </span>│<span style=\"color: #800080; text-decoration-color: #800080\"> 10                      </span>│\n",
       "│<span style=\"color: #008080; text-decoration-color: #008080\"> OctaneCodes   </span>│<span style=\"color: #800080; text-decoration-color: #800080\"> 7                       </span>│\n",
       "│<span style=\"color: #008080; text-decoration-color: #008080\"> jasonmorris8  </span>│<span style=\"color: #800080; text-decoration-color: #800080\"> 6                       </span>│\n",
       "│<span style=\"color: #008080; text-decoration-color: #008080\"> esr27         </span>│<span style=\"color: #800080; text-decoration-color: #800080\"> 1                       </span>│\n",
       "└───────────────┴─────────────────────────┘\n",
       "</pre>\n"
      ],
      "text/plain": [
       "\u001b[3m               Contributors                \u001b[0m\n",
       "┏━━━━━━━━━━━━━━━┳━━━━━━━━━━━━━━━━━━━━━━━━━┓\n",
       "┃\u001b[1m \u001b[0m\u001b[1mContributor  \u001b[0m\u001b[1m \u001b[0m┃\u001b[1m \u001b[0m\u001b[1mNumber of Contributions\u001b[0m\u001b[1m \u001b[0m┃\n",
       "┡━━━━━━━━━━━━━━━╇━━━━━━━━━━━━━━━━━━━━━━━━━┩\n",
       "│\u001b[36m \u001b[0m\u001b[36myosefstifanos\u001b[0m\u001b[36m \u001b[0m│\u001b[35m \u001b[0m\u001b[35m10                     \u001b[0m\u001b[35m \u001b[0m│\n",
       "│\u001b[36m \u001b[0m\u001b[36mOctaneCodes  \u001b[0m\u001b[36m \u001b[0m│\u001b[35m \u001b[0m\u001b[35m7                      \u001b[0m\u001b[35m \u001b[0m│\n",
       "│\u001b[36m \u001b[0m\u001b[36mjasonmorris8 \u001b[0m\u001b[36m \u001b[0m│\u001b[35m \u001b[0m\u001b[35m6                      \u001b[0m\u001b[35m \u001b[0m│\n",
       "│\u001b[36m \u001b[0m\u001b[36mesr27        \u001b[0m\u001b[36m \u001b[0m│\u001b[35m \u001b[0m\u001b[35m1                      \u001b[0m\u001b[35m \u001b[0m│\n",
       "└───────────────┴─────────────────────────┘\n"
      ]
     },
     "metadata": {},
     "output_type": "display_data"
    }
   ],
   "source": [
    "# Create a table for the contributions\n",
    "contributors_table = Table(title=\"Contributors\")\n",
    "# Add columns with the contributors and the number of contributions\n",
    "contributors_table.add_column(\"Contributor\", style=\"cyan\")\n",
    "contributors_table.add_column(\"Number of Contributions\", style=\"magenta\")\n",
    "# Sort the contributors by the number of contributions, with the highest first\n",
    "contributors_df = contributors_df.sort_values(by=\"contributions\", ascending=False)\n",
    "# Loop through the contributors and add them to the table\n",
    "for index, row in contributors_df.iterrows():\n",
    "\t# Add the contributor to the table and set the contributions to be a string\n",
    "\tcontributors_table.add_row(row[\"login\"], str(row[\"contributions\"]))\n",
    "# Print the table\n",
    "console.print(contributors_table)"
   ]
  },
  {
   "cell_type": "markdown",
   "metadata": {},
   "source": [
    "Above is the total number of contributions (that is commits) per group member. I see that there is not many commits currently, which makes sense since most of your group activities so far have been more research intensive, and also that almost every group member has committed, which is great. Ideally, I would like to see all members of the group committing to the repository moving forward if it is possible, but happy to respect your division of labor if that is something you have all decided on."
   ]
  },
  {
   "cell_type": "markdown",
   "metadata": {},
   "source": [
    "### Commits Over Time"
   ]
  },
  {
   "cell_type": "code",
   "execution_count": 3,
   "metadata": {},
   "outputs": [
    {
     "data": {
      "text/html": [
       "\n",
       "<style>\n",
       "  #altair-viz-d903aa0ba326496ca075a35eebbd8a18.vega-embed {\n",
       "    width: 100%;\n",
       "    display: flex;\n",
       "  }\n",
       "\n",
       "  #altair-viz-d903aa0ba326496ca075a35eebbd8a18.vega-embed details,\n",
       "  #altair-viz-d903aa0ba326496ca075a35eebbd8a18.vega-embed details summary {\n",
       "    position: relative;\n",
       "  }\n",
       "</style>\n",
       "<div id=\"altair-viz-d903aa0ba326496ca075a35eebbd8a18\"></div>\n",
       "<script type=\"text/javascript\">\n",
       "  var VEGA_DEBUG = (typeof VEGA_DEBUG == \"undefined\") ? {} : VEGA_DEBUG;\n",
       "  (function(spec, embedOpt){\n",
       "    let outputDiv = document.currentScript.previousElementSibling;\n",
       "    if (outputDiv.id !== \"altair-viz-d903aa0ba326496ca075a35eebbd8a18\") {\n",
       "      outputDiv = document.getElementById(\"altair-viz-d903aa0ba326496ca075a35eebbd8a18\");\n",
       "    }\n",
       "    const paths = {\n",
       "      \"vega\": \"https://cdn.jsdelivr.net/npm/vega@5?noext\",\n",
       "      \"vega-lib\": \"https://cdn.jsdelivr.net/npm/vega-lib?noext\",\n",
       "      \"vega-lite\": \"https://cdn.jsdelivr.net/npm/vega-lite@5.20.1?noext\",\n",
       "      \"vega-embed\": \"https://cdn.jsdelivr.net/npm/vega-embed@6?noext\",\n",
       "    };\n",
       "\n",
       "    function maybeLoadScript(lib, version) {\n",
       "      var key = `${lib.replace(\"-\", \"\")}_version`;\n",
       "      return (VEGA_DEBUG[key] == version) ?\n",
       "        Promise.resolve(paths[lib]) :\n",
       "        new Promise(function(resolve, reject) {\n",
       "          var s = document.createElement('script');\n",
       "          document.getElementsByTagName(\"head\")[0].appendChild(s);\n",
       "          s.async = true;\n",
       "          s.onload = () => {\n",
       "            VEGA_DEBUG[key] = version;\n",
       "            return resolve(paths[lib]);\n",
       "          };\n",
       "          s.onerror = () => reject(`Error loading script: ${paths[lib]}`);\n",
       "          s.src = paths[lib];\n",
       "        });\n",
       "    }\n",
       "\n",
       "    function showError(err) {\n",
       "      outputDiv.innerHTML = `<div class=\"error\" style=\"color:red;\">${err}</div>`;\n",
       "      throw err;\n",
       "    }\n",
       "\n",
       "    function displayChart(vegaEmbed) {\n",
       "      vegaEmbed(outputDiv, spec, embedOpt)\n",
       "        .catch(err => showError(`Javascript Error: ${err.message}<br>This usually means there's a typo in your chart specification. See the javascript console for the full traceback.`));\n",
       "    }\n",
       "\n",
       "    if(typeof define === \"function\" && define.amd) {\n",
       "      requirejs.config({paths});\n",
       "      require([\"vega-embed\"], displayChart, err => showError(`Error loading script: ${err.message}`));\n",
       "    } else {\n",
       "      maybeLoadScript(\"vega\", \"5\")\n",
       "        .then(() => maybeLoadScript(\"vega-lite\", \"5.20.1\"))\n",
       "        .then(() => maybeLoadScript(\"vega-embed\", \"6\"))\n",
       "        .catch(showError)\n",
       "        .then(() => displayChart(vegaEmbed));\n",
       "    }\n",
       "  })({\"config\": {\"view\": {\"continuousWidth\": 300, \"continuousHeight\": 300}}, \"hconcat\": [{\"data\": {\"name\": \"data-e3e78afbd7479f7bdc738b960c9cf994\"}, \"mark\": {\"type\": \"bar\"}, \"encoding\": {\"color\": {\"field\": \"login\", \"type\": \"nominal\"}, \"opacity\": {\"condition\": {\"param\": \"param_1\", \"value\": 1}, \"value\": 0.1}, \"tooltip\": [{\"field\": \"commit_date\", \"type\": \"temporal\"}, {\"field\": \"commit_metric_value\", \"type\": \"quantitative\"}, {\"field\": \"login\", \"type\": \"nominal\"}, {\"field\": \"message\", \"type\": \"nominal\"}], \"x\": {\"field\": \"commit_date\", \"type\": \"temporal\"}, \"y\": {\"field\": \"commit_metric_value\", \"type\": \"quantitative\"}}, \"name\": \"view_1\", \"title\": \"Commit additions Over Time\"}, {\"data\": {\"name\": \"data-64ce64e0564b0eaf00c54a176f892efc\"}, \"mark\": {\"type\": \"bar\"}, \"encoding\": {\"color\": {\"field\": \"login\", \"type\": \"nominal\"}, \"opacity\": {\"condition\": {\"param\": \"param_2\", \"value\": 1}, \"value\": 0.1}, \"tooltip\": [{\"field\": \"commit_date\", \"type\": \"temporal\"}, {\"field\": \"commit_metric_value\", \"type\": \"quantitative\"}, {\"field\": \"login\", \"type\": \"nominal\"}, {\"field\": \"message\", \"type\": \"nominal\"}], \"x\": {\"field\": \"commit_date\", \"type\": \"temporal\"}, \"y\": {\"field\": \"commit_metric_value\", \"type\": \"quantitative\"}}, \"name\": \"view_2\", \"title\": \"Commit deletions Over Time\"}, {\"data\": {\"name\": \"data-2babad04e93f22180366349924a3cb1a\"}, \"mark\": {\"type\": \"bar\"}, \"encoding\": {\"color\": {\"field\": \"login\", \"type\": \"nominal\"}, \"opacity\": {\"condition\": {\"param\": \"param_3\", \"value\": 1}, \"value\": 0.1}, \"tooltip\": [{\"field\": \"commit_date\", \"type\": \"temporal\"}, {\"field\": \"commit_metric_value\", \"type\": \"quantitative\"}, {\"field\": \"login\", \"type\": \"nominal\"}, {\"field\": \"message\", \"type\": \"nominal\"}], \"x\": {\"field\": \"commit_date\", \"type\": \"temporal\"}, \"y\": {\"field\": \"commit_metric_value\", \"type\": \"quantitative\"}}, \"name\": \"view_3\", \"title\": \"Commit changedFiles Over Time\"}], \"params\": [{\"name\": \"param_1\", \"select\": {\"type\": \"point\", \"fields\": [\"login\"]}, \"bind\": \"legend\", \"views\": [\"view_1\"]}, {\"name\": \"param_2\", \"select\": {\"type\": \"point\", \"fields\": [\"login\"]}, \"bind\": \"legend\", \"views\": [\"view_2\"]}, {\"name\": \"param_3\", \"select\": {\"type\": \"point\", \"fields\": [\"login\"]}, \"bind\": \"legend\", \"views\": [\"view_3\"]}], \"resolve\": {\"scale\": {\"y\": \"independent\"}}, \"$schema\": \"https://vega.github.io/schema/vega-lite/v5.20.1.json\", \"datasets\": {\"data-e3e78afbd7479f7bdc738b960c9cf994\": [{\"commit_date\": \"2024-09-03T20:32:45+00:00\", \"commit_metric_value\": 1, \"login\": \"yosefstifanos\", \"message\": \"Update README.md\"}, {\"commit_date\": \"2024-10-26T18:26:35+00:00\", \"commit_metric_value\": 3, \"login\": \"yosefstifanos\", \"message\": \"Update README.md\"}, {\"commit_date\": \"2024-09-10T19:48:56+00:00\", \"commit_metric_value\": 3, \"login\": \"yosefstifanos\", \"message\": \"Update Group Document.md\"}, {\"commit_date\": \"2024-09-10T19:48:43+00:00\", \"commit_metric_value\": 1, \"login\": \"yosefstifanos\", \"message\": \"Create Group Document.md\"}, {\"commit_date\": \"2024-10-29T19:49:52+00:00\", \"commit_metric_value\": 1, \"login\": \"esr27\", \"message\": \"??\"}, {\"commit_date\": \"2024-10-29T00:27:42+00:00\", \"commit_metric_value\": 5, \"login\": \"OctaneCodes\", \"message\": \"finished dataset & README\"}, {\"commit_date\": \"2024-10-28T16:34:02+00:00\", \"commit_metric_value\": 19, \"login\": \"OctaneCodes\", \"message\": \"readme filled out\"}, {\"commit_date\": \"2024-10-22T16:44:32+00:00\", \"commit_metric_value\": 26, \"login\": \"OctaneCodes\", \"message\": \"start of dataset\"}, {\"commit_date\": \"2024-09-23T15:48:23+00:00\", \"commit_metric_value\": 69, \"login\": \"OctaneCodes\", \"message\": \"Week 4 Group Project\"}, {\"commit_date\": \"2024-09-22T22:17:43+00:00\", \"commit_metric_value\": 98, \"login\": \"OctaneCodes\", \"message\": \"Updated Group Doucment + Created Project proposal\"}, {\"commit_date\": \"2024-10-26T18:23:28+00:00\", \"commit_metric_value\": 617, \"login\": \"yosefstifanos\", \"message\": \"updated notebook\"}, {\"commit_date\": \"2024-10-26T18:07:29+00:00\", \"commit_metric_value\": 1, \"login\": \"yosefstifanos\", \"message\": \"Submission of analysis with both CSV's\"}, {\"commit_date\": \"2024-10-26T18:04:45+00:00\", \"commit_metric_value\": 2221, \"login\": \"yosefstifanos\", \"message\": \"Submission of Analysis and CSV\"}, {\"commit_date\": \"2024-10-17T18:56:16+00:00\", \"commit_metric_value\": 2, \"login\": \"yosefstifanos\", \"message\": \"Added more Terms of Use\"}, {\"commit_date\": \"2024-10-17T18:46:17+00:00\", \"commit_metric_value\": 3, \"login\": \"yosefstifanos\", \"message\": \"Added more info for Terms of Use on proprietary platform MD\"}, {\"commit_date\": \"2024-10-08T20:04:15+00:00\", \"commit_metric_value\": 721, \"login\": \"yosefstifanos\", \"message\": \"Proprietary & Perspectival Dataset Creation\"}, {\"commit_date\": \"2024-10-26T17:03:51+00:00\", \"commit_metric_value\": 0, \"login\": \"OctaneCodes\", \"message\": \"Delete group_project_dataset/dataset_ver1.py\\n\\nplaceholder being replaced\"}, {\"commit_date\": \"2024-10-01T18:38:09+00:00\", \"commit_metric_value\": 15, \"login\": \"OctaneCodes\", \"message\": \"Merge pull request #3 from CultureAsData-UIUC/project-proposal-feedback\\n\\nInitial project proposal feedback\"}, {\"commit_date\": \"2024-10-22T18:59:54+00:00\", \"commit_metric_value\": 0, \"login\": \"jasonmorris8\", \"message\": \"Deleted proprietary-perspectival-dataset-creation/images/.DS_Store\"}, {\"commit_date\": \"2024-10-22T18:59:39+00:00\", \"commit_metric_value\": 0, \"login\": \"jasonmorris8\", \"message\": \"Deleted proprietary-perspectival-dataset-creation/.DS_Store\"}, {\"commit_date\": \"2024-10-22T18:58:41+00:00\", \"commit_metric_value\": 1, \"login\": \"jasonmorris8\", \"message\": \"added gitignore\"}, {\"commit_date\": \"2024-10-22T18:53:04+00:00\", \"commit_metric_value\": 58, \"login\": \"jasonmorris8\", \"message\": \"added column\"}, {\"commit_date\": \"2024-10-22T18:49:40+00:00\", \"commit_metric_value\": 25, \"login\": \"jasonmorris8\", \"message\": \"Added column to df\"}, {\"commit_date\": \"2024-09-10T19:42:10+00:00\", \"commit_metric_value\": 41, \"login\": \"jasonmorris8\", \"message\": \"Merge pull request #1 from CultureAsData-UIUC/adding-project-management-workflow\\n\\nAdded project management workflow issue template\"}], \"data-64ce64e0564b0eaf00c54a176f892efc\": [{\"commit_date\": \"2024-09-03T20:32:45+00:00\", \"commit_metric_value\": 1, \"login\": \"yosefstifanos\", \"message\": \"Update README.md\"}, {\"commit_date\": \"2024-10-26T18:26:35+00:00\", \"commit_metric_value\": 1, \"login\": \"yosefstifanos\", \"message\": \"Update README.md\"}, {\"commit_date\": \"2024-09-10T19:48:56+00:00\", \"commit_metric_value\": 1, \"login\": \"yosefstifanos\", \"message\": \"Update Group Document.md\"}, {\"commit_date\": \"2024-09-10T19:48:43+00:00\", \"commit_metric_value\": 0, \"login\": \"yosefstifanos\", \"message\": \"Create Group Document.md\"}, {\"commit_date\": \"2024-10-29T19:49:52+00:00\", \"commit_metric_value\": 1, \"login\": \"esr27\", \"message\": \"??\"}, {\"commit_date\": \"2024-10-29T00:27:42+00:00\", \"commit_metric_value\": 3, \"login\": \"OctaneCodes\", \"message\": \"finished dataset & README\"}, {\"commit_date\": \"2024-10-28T16:34:02+00:00\", \"commit_metric_value\": 1, \"login\": \"OctaneCodes\", \"message\": \"readme filled out\"}, {\"commit_date\": \"2024-10-22T16:44:32+00:00\", \"commit_metric_value\": 0, \"login\": \"OctaneCodes\", \"message\": \"start of dataset\"}, {\"commit_date\": \"2024-09-23T15:48:23+00:00\", \"commit_metric_value\": 0, \"login\": \"OctaneCodes\", \"message\": \"Week 4 Group Project\"}, {\"commit_date\": \"2024-09-22T22:17:43+00:00\", \"commit_metric_value\": 0, \"login\": \"OctaneCodes\", \"message\": \"Updated Group Doucment + Created Project proposal\"}, {\"commit_date\": \"2024-10-26T18:23:28+00:00\", \"commit_metric_value\": 891, \"login\": \"yosefstifanos\", \"message\": \"updated notebook\"}, {\"commit_date\": \"2024-10-26T18:07:29+00:00\", \"commit_metric_value\": 8, \"login\": \"yosefstifanos\", \"message\": \"Submission of analysis with both CSV's\"}, {\"commit_date\": \"2024-10-26T18:04:45+00:00\", \"commit_metric_value\": 0, \"login\": \"yosefstifanos\", \"message\": \"Submission of Analysis and CSV\"}, {\"commit_date\": \"2024-10-17T18:56:16+00:00\", \"commit_metric_value\": 0, \"login\": \"yosefstifanos\", \"message\": \"Added more Terms of Use\"}, {\"commit_date\": \"2024-10-17T18:46:17+00:00\", \"commit_metric_value\": 1, \"login\": \"yosefstifanos\", \"message\": \"Added more info for Terms of Use on proprietary platform MD\"}, {\"commit_date\": \"2024-10-08T20:04:15+00:00\", \"commit_metric_value\": 0, \"login\": \"yosefstifanos\", \"message\": \"Proprietary & Perspectival Dataset Creation\"}, {\"commit_date\": \"2024-10-26T17:03:51+00:00\", \"commit_metric_value\": 7, \"login\": \"OctaneCodes\", \"message\": \"Delete group_project_dataset/dataset_ver1.py\\n\\nplaceholder being replaced\"}, {\"commit_date\": \"2024-10-01T18:38:09+00:00\", \"commit_metric_value\": 0, \"login\": \"OctaneCodes\", \"message\": \"Merge pull request #3 from CultureAsData-UIUC/project-proposal-feedback\\n\\nInitial project proposal feedback\"}, {\"commit_date\": \"2024-10-22T18:59:54+00:00\", \"commit_metric_value\": 0, \"login\": \"jasonmorris8\", \"message\": \"Deleted proprietary-perspectival-dataset-creation/images/.DS_Store\"}, {\"commit_date\": \"2024-10-22T18:59:39+00:00\", \"commit_metric_value\": 0, \"login\": \"jasonmorris8\", \"message\": \"Deleted proprietary-perspectival-dataset-creation/.DS_Store\"}, {\"commit_date\": \"2024-10-22T18:58:41+00:00\", \"commit_metric_value\": 0, \"login\": \"jasonmorris8\", \"message\": \"added gitignore\"}, {\"commit_date\": \"2024-10-22T18:53:04+00:00\", \"commit_metric_value\": 29, \"login\": \"jasonmorris8\", \"message\": \"added column\"}, {\"commit_date\": \"2024-10-22T18:49:40+00:00\", \"commit_metric_value\": 25, \"login\": \"jasonmorris8\", \"message\": \"Added column to df\"}, {\"commit_date\": \"2024-09-10T19:42:10+00:00\", \"commit_metric_value\": 0, \"login\": \"jasonmorris8\", \"message\": \"Merge pull request #1 from CultureAsData-UIUC/adding-project-management-workflow\\n\\nAdded project management workflow issue template\"}], \"data-2babad04e93f22180366349924a3cb1a\": [{\"commit_date\": \"2024-09-03T20:32:45+00:00\", \"commit_metric_value\": 1, \"login\": \"yosefstifanos\", \"message\": \"Update README.md\"}, {\"commit_date\": \"2024-10-26T18:26:35+00:00\", \"commit_metric_value\": 1, \"login\": \"yosefstifanos\", \"message\": \"Update README.md\"}, {\"commit_date\": \"2024-09-10T19:48:56+00:00\", \"commit_metric_value\": 1, \"login\": \"yosefstifanos\", \"message\": \"Update Group Document.md\"}, {\"commit_date\": \"2024-09-10T19:48:43+00:00\", \"commit_metric_value\": 1, \"login\": \"yosefstifanos\", \"message\": \"Create Group Document.md\"}, {\"commit_date\": \"2024-10-29T19:49:52+00:00\", \"commit_metric_value\": 1, \"login\": \"esr27\", \"message\": \"??\"}, {\"commit_date\": \"2024-10-29T00:27:42+00:00\", \"commit_metric_value\": 1, \"login\": \"OctaneCodes\", \"message\": \"finished dataset & README\"}, {\"commit_date\": \"2024-10-28T16:34:02+00:00\", \"commit_metric_value\": 1, \"login\": \"OctaneCodes\", \"message\": \"readme filled out\"}, {\"commit_date\": \"2024-10-22T16:44:32+00:00\", \"commit_metric_value\": 2, \"login\": \"OctaneCodes\", \"message\": \"start of dataset\"}, {\"commit_date\": \"2024-09-23T15:48:23+00:00\", \"commit_metric_value\": 1, \"login\": \"OctaneCodes\", \"message\": \"Week 4 Group Project\"}, {\"commit_date\": \"2024-09-22T22:17:43+00:00\", \"commit_metric_value\": 2, \"login\": \"OctaneCodes\", \"message\": \"Updated Group Doucment + Created Project proposal\"}, {\"commit_date\": \"2024-10-26T18:23:28+00:00\", \"commit_metric_value\": 2, \"login\": \"yosefstifanos\", \"message\": \"updated notebook\"}, {\"commit_date\": \"2024-10-26T18:07:29+00:00\", \"commit_metric_value\": 1, \"login\": \"yosefstifanos\", \"message\": \"Submission of analysis with both CSV's\"}, {\"commit_date\": \"2024-10-26T18:04:45+00:00\", \"commit_metric_value\": 3, \"login\": \"yosefstifanos\", \"message\": \"Submission of Analysis and CSV\"}, {\"commit_date\": \"2024-10-17T18:56:16+00:00\", \"commit_metric_value\": 1, \"login\": \"yosefstifanos\", \"message\": \"Added more Terms of Use\"}, {\"commit_date\": \"2024-10-17T18:46:17+00:00\", \"commit_metric_value\": 2, \"login\": \"yosefstifanos\", \"message\": \"Added more info for Terms of Use on proprietary platform MD\"}, {\"commit_date\": \"2024-10-08T20:04:15+00:00\", \"commit_metric_value\": 7, \"login\": \"yosefstifanos\", \"message\": \"Proprietary & Perspectival Dataset Creation\"}, {\"commit_date\": \"2024-10-26T17:03:51+00:00\", \"commit_metric_value\": 1, \"login\": \"OctaneCodes\", \"message\": \"Delete group_project_dataset/dataset_ver1.py\\n\\nplaceholder being replaced\"}, {\"commit_date\": \"2024-10-01T18:38:09+00:00\", \"commit_metric_value\": 1, \"login\": \"OctaneCodes\", \"message\": \"Merge pull request #3 from CultureAsData-UIUC/project-proposal-feedback\\n\\nInitial project proposal feedback\"}, {\"commit_date\": \"2024-10-22T18:59:54+00:00\", \"commit_metric_value\": 1, \"login\": \"jasonmorris8\", \"message\": \"Deleted proprietary-perspectival-dataset-creation/images/.DS_Store\"}, {\"commit_date\": \"2024-10-22T18:59:39+00:00\", \"commit_metric_value\": 1, \"login\": \"jasonmorris8\", \"message\": \"Deleted proprietary-perspectival-dataset-creation/.DS_Store\"}, {\"commit_date\": \"2024-10-22T18:58:41+00:00\", \"commit_metric_value\": 1, \"login\": \"jasonmorris8\", \"message\": \"added gitignore\"}, {\"commit_date\": \"2024-10-22T18:53:04+00:00\", \"commit_metric_value\": 1, \"login\": \"jasonmorris8\", \"message\": \"added column\"}, {\"commit_date\": \"2024-10-22T18:49:40+00:00\", \"commit_metric_value\": 1, \"login\": \"jasonmorris8\", \"message\": \"Added column to df\"}, {\"commit_date\": \"2024-09-10T19:42:10+00:00\", \"commit_metric_value\": 2, \"login\": \"jasonmorris8\", \"message\": \"Merge pull request #1 from CultureAsData-UIUC/adding-project-management-workflow\\n\\nAdded project management workflow issue template\"}]}}, {\"mode\": \"vega-lite\"});\n",
       "</script>"
      ],
      "text/plain": [
       "alt.HConcatChart(...)"
      ]
     },
     "execution_count": 3,
     "metadata": {},
     "output_type": "execute_result"
    }
   ],
   "source": [
    "# Melt the commits dataframe from wide to long format so that we can have all commit type activities in one column called commit_metric\n",
    "melted_commits_df = commits_df.melt(id_vars=['oid', 'message', 'committedDate', 'login', ], value_vars=['additions', 'deletions', 'changedFiles'], var_name='commit_metric', value_name='commit_metric_value')\n",
    "# Convert the commit date to a datetime object\n",
    "melted_commits_df['commit_date'] = pd.to_datetime(melted_commits_df['committedDate'], errors='coerce')\n",
    "# Get the unique commit types to create charts for each type\n",
    "commit_types = melted_commits_df['commit_metric'].unique().tolist()\n",
    "\n",
    "# Create a list to store the charts\n",
    "charts = []\n",
    "# Loop through the commit types and create a chart for each type\n",
    "for commit_type in commit_types:\n",
    "\t# Create an interactive selection for each chart where you can select the login to highlight each group member's contributions\n",
    "\tselection = alt.selection_point(fields=['login'], bind='legend')\n",
    "\t\n",
    "\t# Filter the DataFrame for the current commit type and subset to only the columns we need to keep the chart smaller in size\n",
    "\tfiltered_df = melted_commits_df[melted_commits_df['commit_metric'] == commit_type][['commit_date', 'commit_metric_value', 'login', 'message']]\n",
    "\t\n",
    "\t# Create a bar chart for the current commit type\n",
    "\tchart = alt.Chart(filtered_df).mark_bar().encode(\n",
    "\t\tx='commit_date:T', # Use the commit date as the x-axis\n",
    "\t\ty='commit_metric_value:Q', # Use the commit metric value as the y-axis\n",
    "\t\tcolor='login:N', # Color the bars by the login\n",
    "\t\topacity=alt.condition(selection, alt.value(1), alt.value(0.1)), # Set the opacity to 1 if the login is selected and 0.1 if not\n",
    "\t\ttooltip=['commit_date', 'commit_metric_value', 'login', 'message'] # Show the commit date, commit metric value, login, and message in the tooltip\n",
    "\t).add_params(selection).properties(\n",
    "\t\ttitle=f\"Commit {commit_type} Over Time\"\n",
    "\t)\n",
    "\t# Add the chart to the list of charts\n",
    "\tcharts.append(chart)\n",
    "# Combine all the charts into one chart and set the y-axis to be independent so that we can see all the changes even if the y axis scale is different for each commit type activity\n",
    "alt.hconcat(*charts).resolve_scale(y='independent')"
   ]
  },
  {
   "cell_type": "markdown",
   "metadata": {},
   "source": [
    "When we look at the distribution of commit activities (so additions, deletions, and number of files changed), it does look like that, even though there have been few commits, it has been Yosef making some very large changes, though Ethan, Nick, and Jason have contributed a bit as well. I am concerned that I do not see any contributions from Sam and Kohta. I would like to see more of a balance in the future, but I understand that this may be due to the division of labor you have all decided on (though again will need confirmation that is the case)."
   ]
  },
  {
   "cell_type": "markdown",
   "metadata": {},
   "source": [
    "### Issues and Project Management Over Time"
   ]
  },
  {
   "cell_type": "code",
   "execution_count": 4,
   "metadata": {},
   "outputs": [
    {
     "data": {
      "text/html": [
       "\n",
       "<style>\n",
       "  #altair-viz-a3a671f8f1ca43ca9aa388b1fa846521.vega-embed {\n",
       "    width: 100%;\n",
       "    display: flex;\n",
       "  }\n",
       "\n",
       "  #altair-viz-a3a671f8f1ca43ca9aa388b1fa846521.vega-embed details,\n",
       "  #altair-viz-a3a671f8f1ca43ca9aa388b1fa846521.vega-embed details summary {\n",
       "    position: relative;\n",
       "  }\n",
       "</style>\n",
       "<div id=\"altair-viz-a3a671f8f1ca43ca9aa388b1fa846521\"></div>\n",
       "<script type=\"text/javascript\">\n",
       "  var VEGA_DEBUG = (typeof VEGA_DEBUG == \"undefined\") ? {} : VEGA_DEBUG;\n",
       "  (function(spec, embedOpt){\n",
       "    let outputDiv = document.currentScript.previousElementSibling;\n",
       "    if (outputDiv.id !== \"altair-viz-a3a671f8f1ca43ca9aa388b1fa846521\") {\n",
       "      outputDiv = document.getElementById(\"altair-viz-a3a671f8f1ca43ca9aa388b1fa846521\");\n",
       "    }\n",
       "    const paths = {\n",
       "      \"vega\": \"https://cdn.jsdelivr.net/npm/vega@5?noext\",\n",
       "      \"vega-lib\": \"https://cdn.jsdelivr.net/npm/vega-lib?noext\",\n",
       "      \"vega-lite\": \"https://cdn.jsdelivr.net/npm/vega-lite@5.20.1?noext\",\n",
       "      \"vega-embed\": \"https://cdn.jsdelivr.net/npm/vega-embed@6?noext\",\n",
       "    };\n",
       "\n",
       "    function maybeLoadScript(lib, version) {\n",
       "      var key = `${lib.replace(\"-\", \"\")}_version`;\n",
       "      return (VEGA_DEBUG[key] == version) ?\n",
       "        Promise.resolve(paths[lib]) :\n",
       "        new Promise(function(resolve, reject) {\n",
       "          var s = document.createElement('script');\n",
       "          document.getElementsByTagName(\"head\")[0].appendChild(s);\n",
       "          s.async = true;\n",
       "          s.onload = () => {\n",
       "            VEGA_DEBUG[key] = version;\n",
       "            return resolve(paths[lib]);\n",
       "          };\n",
       "          s.onerror = () => reject(`Error loading script: ${paths[lib]}`);\n",
       "          s.src = paths[lib];\n",
       "        });\n",
       "    }\n",
       "\n",
       "    function showError(err) {\n",
       "      outputDiv.innerHTML = `<div class=\"error\" style=\"color:red;\">${err}</div>`;\n",
       "      throw err;\n",
       "    }\n",
       "\n",
       "    function displayChart(vegaEmbed) {\n",
       "      vegaEmbed(outputDiv, spec, embedOpt)\n",
       "        .catch(err => showError(`Javascript Error: ${err.message}<br>This usually means there's a typo in your chart specification. See the javascript console for the full traceback.`));\n",
       "    }\n",
       "\n",
       "    if(typeof define === \"function\" && define.amd) {\n",
       "      requirejs.config({paths});\n",
       "      require([\"vega-embed\"], displayChart, err => showError(`Error loading script: ${err.message}`));\n",
       "    } else {\n",
       "      maybeLoadScript(\"vega\", \"5\")\n",
       "        .then(() => maybeLoadScript(\"vega-lite\", \"5.20.1\"))\n",
       "        .then(() => maybeLoadScript(\"vega-embed\", \"6\"))\n",
       "        .catch(showError)\n",
       "        .then(() => displayChart(vegaEmbed));\n",
       "    }\n",
       "  })({\"config\": {\"view\": {\"continuousWidth\": 300, \"continuousHeight\": 300}}, \"vconcat\": [{\"data\": {\"name\": \"data-6e45ee7594b2cde0230642e2f852e109\"}, \"mark\": {\"type\": \"line\", \"point\": true}, \"encoding\": {\"color\": {\"field\": \"user_login\", \"type\": \"nominal\"}, \"opacity\": {\"condition\": {\"param\": \"param_4\", \"value\": 1}, \"value\": 0.1}, \"tooltip\": [{\"field\": \"user_login\", \"type\": \"nominal\"}, {\"field\": \"closed_by_login\", \"type\": \"quantitative\"}, {\"field\": \"issue_date\", \"timeUnit\": \"yearmonthdatehoursminutes\", \"type\": \"temporal\"}, {\"field\": \"issue_date_type\", \"type\": \"nominal\"}, {\"field\": \"title\", \"type\": \"nominal\"}, {\"field\": \"body\", \"type\": \"quantitative\"}, {\"field\": \"state\", \"type\": \"quantitative\"}, {\"field\": \"assignee\", \"type\": \"quantitative\"}, {\"field\": \"assignees_logins\", \"type\": \"quantitative\"}, {\"field\": \"html_url\", \"type\": \"quantitative\"}], \"x\": {\"field\": \"issue_date\", \"type\": \"temporal\"}, \"y\": {\"axis\": {\"labels\": false, \"title\": null}, \"field\": \"title\", \"type\": \"nominal\"}}, \"name\": \"view_4\", \"title\": {\"text\": \"Issue: Start scraping data\", \"subtitle\": [\"Issue is associated with a project board and has status Todo.\"]}}, {\"data\": {\"name\": \"data-5f113be8a891ebdf82527ddc704e6013\"}, \"mark\": {\"type\": \"line\", \"point\": true}, \"encoding\": {\"color\": {\"field\": \"user_login\", \"type\": \"nominal\"}, \"opacity\": {\"condition\": {\"param\": \"param_5\", \"value\": 1}, \"value\": 0.1}, \"tooltip\": [{\"field\": \"user_login\", \"type\": \"nominal\"}, {\"field\": \"closed_by_login\", \"type\": \"quantitative\"}, {\"field\": \"issue_date\", \"timeUnit\": \"yearmonthdatehoursminutes\", \"type\": \"temporal\"}, {\"field\": \"issue_date_type\", \"type\": \"nominal\"}, {\"field\": \"title\", \"type\": \"nominal\"}, {\"field\": \"body\", \"type\": \"quantitative\"}, {\"field\": \"state\", \"type\": \"quantitative\"}, {\"field\": \"assignee\", \"type\": \"quantitative\"}, {\"field\": \"assignees_logins\", \"type\": \"quantitative\"}, {\"field\": \"html_url\", \"type\": \"quantitative\"}], \"x\": {\"field\": \"issue_date\", \"type\": \"temporal\"}, \"y\": {\"axis\": {\"labels\": false, \"title\": null}, \"field\": \"title\", \"type\": \"nominal\"}}, \"name\": \"view_5\", \"title\": {\"text\": \"Issue: Initial project proposal\", \"subtitle\": [\"Issue is associated with a project board and has status Done.\"]}}, {\"data\": {\"name\": \"data-20dfb0c90af5603e6974e5f7a0036f97\"}, \"mark\": {\"type\": \"line\", \"point\": true}, \"encoding\": {\"color\": {\"field\": \"user_login\", \"type\": \"nominal\"}, \"opacity\": {\"condition\": {\"param\": \"param_6\", \"value\": 1}, \"value\": 0.1}, \"tooltip\": [{\"field\": \"user_login\", \"type\": \"nominal\"}, {\"field\": \"closed_by_login\", \"type\": \"quantitative\"}, {\"field\": \"issue_date\", \"timeUnit\": \"yearmonthdatehoursminutes\", \"type\": \"temporal\"}, {\"field\": \"issue_date_type\", \"type\": \"nominal\"}, {\"field\": \"title\", \"type\": \"nominal\"}, {\"field\": \"body\", \"type\": \"quantitative\"}, {\"field\": \"state\", \"type\": \"quantitative\"}, {\"field\": \"assignee\", \"type\": \"quantitative\"}, {\"field\": \"assignees_logins\", \"type\": \"quantitative\"}, {\"field\": \"html_url\", \"type\": \"quantitative\"}], \"x\": {\"field\": \"issue_date\", \"type\": \"temporal\"}, \"y\": {\"axis\": {\"labels\": false, \"title\": null}, \"field\": \"title\", \"type\": \"nominal\"}}, \"name\": \"view_6\", \"title\": {\"text\": \"Issue: Group assignment from week 4\", \"subtitle\": [\"Issue is associated with a project board and has status Done.\"]}}, {\"data\": {\"name\": \"data-c1481c047729e0fbf1d162c028f3d800\"}, \"mark\": {\"type\": \"line\", \"point\": true}, \"encoding\": {\"color\": {\"field\": \"user_login\", \"type\": \"nominal\"}, \"opacity\": {\"condition\": {\"param\": \"param_7\", \"value\": 1}, \"value\": 0.1}, \"tooltip\": [{\"field\": \"user_login\", \"type\": \"nominal\"}, {\"field\": \"closed_by_login\", \"type\": \"nominal\"}, {\"field\": \"issue_date\", \"timeUnit\": \"yearmonthdatehoursminutes\", \"type\": \"temporal\"}, {\"field\": \"issue_date_type\", \"type\": \"nominal\"}, {\"field\": \"title\", \"type\": \"nominal\"}, {\"field\": \"body\", \"type\": \"nominal\"}, {\"field\": \"state\", \"type\": \"nominal\"}, {\"field\": \"assignee\", \"type\": \"quantitative\"}, {\"field\": \"assignees_logins\", \"type\": \"quantitative\"}, {\"field\": \"html_url\", \"type\": \"nominal\"}], \"x\": {\"field\": \"issue_date\", \"type\": \"temporal\"}, \"y\": {\"axis\": {\"labels\": false, \"title\": null}, \"field\": \"title\", \"type\": \"nominal\"}}, \"name\": \"view_7\", \"title\": {\"text\": \"Issue: [Weekly Report] Project Manager for {1}\", \"subtitle\": \"Issue is not associated with a pull request or a project board.\"}}, {\"data\": {\"name\": \"data-8ca839289fa7a6c8596e9a550233f29a\"}, \"mark\": {\"type\": \"line\", \"point\": true}, \"encoding\": {\"color\": {\"field\": \"user_login\", \"type\": \"nominal\"}, \"opacity\": {\"condition\": {\"param\": \"param_8\", \"value\": 1}, \"value\": 0.1}, \"tooltip\": [{\"field\": \"user_login\", \"type\": \"nominal\"}, {\"field\": \"closed_by_login\", \"type\": \"quantitative\"}, {\"field\": \"issue_date\", \"timeUnit\": \"yearmonthdatehoursminutes\", \"type\": \"temporal\"}, {\"field\": \"issue_date_type\", \"type\": \"nominal\"}, {\"field\": \"title\", \"type\": \"nominal\"}, {\"field\": \"body\", \"type\": \"quantitative\"}, {\"field\": \"state\", \"type\": \"quantitative\"}, {\"field\": \"assignee\", \"type\": \"quantitative\"}, {\"field\": \"assignees_logins\", \"type\": \"quantitative\"}, {\"field\": \"html_url\", \"type\": \"quantitative\"}], \"x\": {\"field\": \"issue_date\", \"type\": \"temporal\"}, \"y\": {\"axis\": {\"labels\": false, \"title\": null}, \"field\": \"title\", \"type\": \"nominal\"}}, \"name\": \"view_8\", \"title\": {\"text\": \"Issue: format previous week's md files\", \"subtitle\": [\"Issue is associated with a project board and has status Todo.\"]}}, {\"data\": {\"name\": \"data-6d8c637979439559cde8c24c4f0292fa\"}, \"mark\": {\"type\": \"line\", \"point\": true}, \"encoding\": {\"color\": {\"field\": \"user_login\", \"type\": \"nominal\"}, \"opacity\": {\"condition\": {\"param\": \"param_9\", \"value\": 1}, \"value\": 0.1}, \"tooltip\": [{\"field\": \"user_login\", \"type\": \"nominal\"}, {\"field\": \"closed_by_login\", \"type\": \"quantitative\"}, {\"field\": \"issue_date\", \"timeUnit\": \"yearmonthdatehoursminutes\", \"type\": \"temporal\"}, {\"field\": \"issue_date_type\", \"type\": \"nominal\"}, {\"field\": \"title\", \"type\": \"nominal\"}, {\"field\": \"body\", \"type\": \"nominal\"}, {\"field\": \"state\", \"type\": \"nominal\"}, {\"field\": \"assignee\", \"type\": \"quantitative\"}, {\"field\": \"assignees_logins\", \"type\": \"quantitative\"}, {\"field\": \"html_url\", \"type\": \"nominal\"}], \"x\": {\"field\": \"issue_date\", \"type\": \"temporal\"}, \"y\": {\"axis\": {\"labels\": false, \"title\": null}, \"field\": \"title\", \"type\": \"nominal\"}}, \"name\": \"view_9\", \"title\": {\"text\": \"Issue: [Weekly Report] Project Manager for {2}\", \"subtitle\": \"Issue is not associated with a pull request or a project board.\"}}, {\"data\": {\"name\": \"data-d0d61c5db4cf73cb7aab8df5967598b3\"}, \"mark\": {\"type\": \"line\", \"point\": true}, \"encoding\": {\"color\": {\"field\": \"user_login\", \"type\": \"nominal\"}, \"opacity\": {\"condition\": {\"param\": \"param_10\", \"value\": 1}, \"value\": 0.1}, \"tooltip\": [{\"field\": \"user_login\", \"type\": \"nominal\"}, {\"field\": \"closed_by_login\", \"type\": \"quantitative\"}, {\"field\": \"issue_date\", \"timeUnit\": \"yearmonthdatehoursminutes\", \"type\": \"temporal\"}, {\"field\": \"issue_date_type\", \"type\": \"nominal\"}, {\"field\": \"title\", \"type\": \"nominal\"}, {\"field\": \"body\", \"type\": \"nominal\"}, {\"field\": \"state\", \"type\": \"nominal\"}, {\"field\": \"assignee\", \"type\": \"quantitative\"}, {\"field\": \"assignees_logins\", \"type\": \"quantitative\"}, {\"field\": \"html_url\", \"type\": \"nominal\"}], \"x\": {\"field\": \"issue_date\", \"type\": \"temporal\"}, \"y\": {\"axis\": {\"labels\": false, \"title\": null}, \"field\": \"title\", \"type\": \"nominal\"}}, \"name\": \"view_10\", \"title\": {\"text\": \"Issue: [Weekly Report] Project Manager for {3}\", \"subtitle\": \"Issue is not associated with a pull request or a project board.\"}}], \"params\": [{\"name\": \"param_4\", \"select\": {\"type\": \"point\", \"fields\": [\"user_login\"]}, \"bind\": \"legend\", \"views\": [\"view_4\"]}, {\"name\": \"param_5\", \"select\": {\"type\": \"point\", \"fields\": [\"user_login\"]}, \"bind\": \"legend\", \"views\": [\"view_5\"]}, {\"name\": \"param_6\", \"select\": {\"type\": \"point\", \"fields\": [\"user_login\"]}, \"bind\": \"legend\", \"views\": [\"view_6\"]}, {\"name\": \"param_7\", \"select\": {\"type\": \"point\", \"fields\": [\"user_login\"]}, \"bind\": \"legend\", \"views\": [\"view_7\"]}, {\"name\": \"param_8\", \"select\": {\"type\": \"point\", \"fields\": [\"user_login\"]}, \"bind\": \"legend\", \"views\": [\"view_8\"]}, {\"name\": \"param_9\", \"select\": {\"type\": \"point\", \"fields\": [\"user_login\"]}, \"bind\": \"legend\", \"views\": [\"view_9\"]}, {\"name\": \"param_10\", \"select\": {\"type\": \"point\", \"fields\": [\"user_login\"]}, \"bind\": \"legend\", \"views\": [\"view_10\"]}], \"resolve\": {\"scale\": {\"x\": \"shared\"}}, \"$schema\": \"https://vega.github.io/schema/vega-lite/v5.20.1.json\", \"datasets\": {\"data-6e45ee7594b2cde0230642e2f852e109\": [{\"user_login\": \"OctaneCodes\", \"title\": \"Start scraping data\", \"state\": NaN, \"body\": NaN, \"html_url\": NaN, \"assignee\": null, \"assignees_logins\": null, \"labels\": NaN, \"milestone\": null, \"draft\": null, \"comments\": null, \"state_reason\": NaN, \"closed_by_login\": NaN, \"reactions.total_count\": null, \"issue_duration\": null, \"issue_associated_with_pull_request\": false, \"pull_request.url\": null, \"issue_status_on_project_board\": \"Todo\", \"issue_date_type\": \"created_at\", \"issue_date\": \"2024-09-23 15:57:08+00:00\"}, {\"user_login\": \"OctaneCodes\", \"title\": \"Start scraping data\", \"state\": NaN, \"body\": NaN, \"html_url\": NaN, \"assignee\": null, \"assignees_logins\": null, \"labels\": NaN, \"milestone\": null, \"draft\": null, \"comments\": null, \"state_reason\": NaN, \"closed_by_login\": NaN, \"reactions.total_count\": null, \"issue_duration\": null, \"issue_associated_with_pull_request\": false, \"pull_request.url\": null, \"issue_status_on_project_board\": \"Todo\", \"issue_date_type\": \"updated_at\", \"issue_date\": null}, {\"user_login\": \"OctaneCodes\", \"title\": \"Start scraping data\", \"state\": NaN, \"body\": NaN, \"html_url\": NaN, \"assignee\": null, \"assignees_logins\": null, \"labels\": NaN, \"milestone\": null, \"draft\": null, \"comments\": null, \"state_reason\": NaN, \"closed_by_login\": NaN, \"reactions.total_count\": null, \"issue_duration\": null, \"issue_associated_with_pull_request\": false, \"pull_request.url\": null, \"issue_status_on_project_board\": \"Todo\", \"issue_date_type\": \"closed_at\", \"issue_date\": null}], \"data-5f113be8a891ebdf82527ddc704e6013\": [{\"user_login\": \"OctaneCodes\", \"title\": \"Initial project proposal\", \"state\": NaN, \"body\": NaN, \"html_url\": NaN, \"assignee\": null, \"assignees_logins\": null, \"labels\": NaN, \"milestone\": null, \"draft\": null, \"comments\": null, \"state_reason\": NaN, \"closed_by_login\": NaN, \"reactions.total_count\": null, \"issue_duration\": null, \"issue_associated_with_pull_request\": false, \"pull_request.url\": null, \"issue_status_on_project_board\": \"Done\", \"issue_date_type\": \"created_at\", \"issue_date\": \"2024-09-23 15:57:24+00:00\"}, {\"user_login\": \"OctaneCodes\", \"title\": \"Initial project proposal\", \"state\": NaN, \"body\": NaN, \"html_url\": NaN, \"assignee\": null, \"assignees_logins\": null, \"labels\": NaN, \"milestone\": null, \"draft\": null, \"comments\": null, \"state_reason\": NaN, \"closed_by_login\": NaN, \"reactions.total_count\": null, \"issue_duration\": null, \"issue_associated_with_pull_request\": false, \"pull_request.url\": null, \"issue_status_on_project_board\": \"Done\", \"issue_date_type\": \"updated_at\", \"issue_date\": null}, {\"user_login\": \"OctaneCodes\", \"title\": \"Initial project proposal\", \"state\": NaN, \"body\": NaN, \"html_url\": NaN, \"assignee\": null, \"assignees_logins\": null, \"labels\": NaN, \"milestone\": null, \"draft\": null, \"comments\": null, \"state_reason\": NaN, \"closed_by_login\": NaN, \"reactions.total_count\": null, \"issue_duration\": null, \"issue_associated_with_pull_request\": false, \"pull_request.url\": null, \"issue_status_on_project_board\": \"Done\", \"issue_date_type\": \"closed_at\", \"issue_date\": null}], \"data-20dfb0c90af5603e6974e5f7a0036f97\": [{\"user_login\": \"OctaneCodes\", \"title\": \"Group assignment from week 4\", \"state\": NaN, \"body\": NaN, \"html_url\": NaN, \"assignee\": null, \"assignees_logins\": null, \"labels\": NaN, \"milestone\": null, \"draft\": null, \"comments\": null, \"state_reason\": NaN, \"closed_by_login\": NaN, \"reactions.total_count\": null, \"issue_duration\": null, \"issue_associated_with_pull_request\": false, \"pull_request.url\": null, \"issue_status_on_project_board\": \"Done\", \"issue_date_type\": \"created_at\", \"issue_date\": \"2024-09-23 15:57:43+00:00\"}, {\"user_login\": \"OctaneCodes\", \"title\": \"Group assignment from week 4\", \"state\": NaN, \"body\": NaN, \"html_url\": NaN, \"assignee\": null, \"assignees_logins\": null, \"labels\": NaN, \"milestone\": null, \"draft\": null, \"comments\": null, \"state_reason\": NaN, \"closed_by_login\": NaN, \"reactions.total_count\": null, \"issue_duration\": null, \"issue_associated_with_pull_request\": false, \"pull_request.url\": null, \"issue_status_on_project_board\": \"Done\", \"issue_date_type\": \"updated_at\", \"issue_date\": null}, {\"user_login\": \"OctaneCodes\", \"title\": \"Group assignment from week 4\", \"state\": NaN, \"body\": NaN, \"html_url\": NaN, \"assignee\": null, \"assignees_logins\": null, \"labels\": NaN, \"milestone\": null, \"draft\": null, \"comments\": null, \"state_reason\": NaN, \"closed_by_login\": NaN, \"reactions.total_count\": null, \"issue_duration\": null, \"issue_associated_with_pull_request\": false, \"pull_request.url\": null, \"issue_status_on_project_board\": \"Done\", \"issue_date_type\": \"closed_at\", \"issue_date\": null}], \"data-c1481c047729e0fbf1d162c028f3d800\": [{\"user_login\": \"OctaneCodes\", \"title\": \"[Weekly Report] Project Manager for {1}\", \"state\": \"closed\", \"body\": \"This is a template for project managers to report their weekly progress. Please fill out the following sections. You can also include any additional information that you think is relevant.\\r\\n\\r\\n# Project Manager Weekly Report\\r\\n\\r\\n## Weekly Checklist\\r\\n\\r\\n- [x] Created a weekly report for the group project\\r\\n- [x] Updated the project board\\r\\n- [x] Checked in with team members\\r\\n- [x] Assigned tasks for the upcoming week\\r\\n- [x] Close issue once the weekly tasks are completed\\r\\n\\r\\n## Weekly Summary:\\r\\n- Finally pushed The initial project proposal\\r\\n- Completed the group assignment.\\r\\n- Fixed prior group document to be more than a link to a google doc.\\r\\n\\r\\n\\r\\n## Next Week's Goals:\\r\\n- Start scraping data for database\\r\\n- Potentially start to use the projects board over discord for job delegation.\\r\\n\\r\\n## Notes/Additional Information:\\r\\n- Everyone worked towards the group assignment. Split the group of 6 into 2 for part 1 and two. Each person contributed to the questions in their section. Only I pushed it for simplicity.\\r\\n\", \"html_url\": \"https://github.com/CultureAsData-UIUC/is310-fall-2024-group-5/issues/2\", \"assignee\": null, \"assignees_logins\": null, \"labels\": \"[]\", \"milestone\": null, \"draft\": null, \"comments\": 0.0, \"state_reason\": \"completed\", \"closed_by_login\": \"OctaneCodes\", \"reactions.total_count\": 0.0, \"issue_duration\": 0.0, \"issue_associated_with_pull_request\": false, \"pull_request.url\": null, \"issue_status_on_project_board\": NaN, \"issue_date_type\": \"created_at\", \"issue_date\": \"2024-09-23 15:58:52+00:00\"}, {\"user_login\": \"OctaneCodes\", \"title\": \"[Weekly Report] Project Manager for {1}\", \"state\": \"closed\", \"body\": \"This is a template for project managers to report their weekly progress. Please fill out the following sections. You can also include any additional information that you think is relevant.\\r\\n\\r\\n# Project Manager Weekly Report\\r\\n\\r\\n## Weekly Checklist\\r\\n\\r\\n- [x] Created a weekly report for the group project\\r\\n- [x] Updated the project board\\r\\n- [x] Checked in with team members\\r\\n- [x] Assigned tasks for the upcoming week\\r\\n- [x] Close issue once the weekly tasks are completed\\r\\n\\r\\n## Weekly Summary:\\r\\n- Finally pushed The initial project proposal\\r\\n- Completed the group assignment.\\r\\n- Fixed prior group document to be more than a link to a google doc.\\r\\n\\r\\n\\r\\n## Next Week's Goals:\\r\\n- Start scraping data for database\\r\\n- Potentially start to use the projects board over discord for job delegation.\\r\\n\\r\\n## Notes/Additional Information:\\r\\n- Everyone worked towards the group assignment. Split the group of 6 into 2 for part 1 and two. Each person contributed to the questions in their section. Only I pushed it for simplicity.\\r\\n\", \"html_url\": \"https://github.com/CultureAsData-UIUC/is310-fall-2024-group-5/issues/2\", \"assignee\": null, \"assignees_logins\": null, \"labels\": \"[]\", \"milestone\": null, \"draft\": null, \"comments\": 0.0, \"state_reason\": \"completed\", \"closed_by_login\": \"OctaneCodes\", \"reactions.total_count\": 0.0, \"issue_duration\": 0.0, \"issue_associated_with_pull_request\": false, \"pull_request.url\": null, \"issue_status_on_project_board\": NaN, \"issue_date_type\": \"updated_at\", \"issue_date\": \"2024-09-23 15:59:34+00:00\"}, {\"user_login\": \"OctaneCodes\", \"title\": \"[Weekly Report] Project Manager for {1}\", \"state\": \"closed\", \"body\": \"This is a template for project managers to report their weekly progress. Please fill out the following sections. You can also include any additional information that you think is relevant.\\r\\n\\r\\n# Project Manager Weekly Report\\r\\n\\r\\n## Weekly Checklist\\r\\n\\r\\n- [x] Created a weekly report for the group project\\r\\n- [x] Updated the project board\\r\\n- [x] Checked in with team members\\r\\n- [x] Assigned tasks for the upcoming week\\r\\n- [x] Close issue once the weekly tasks are completed\\r\\n\\r\\n## Weekly Summary:\\r\\n- Finally pushed The initial project proposal\\r\\n- Completed the group assignment.\\r\\n- Fixed prior group document to be more than a link to a google doc.\\r\\n\\r\\n\\r\\n## Next Week's Goals:\\r\\n- Start scraping data for database\\r\\n- Potentially start to use the projects board over discord for job delegation.\\r\\n\\r\\n## Notes/Additional Information:\\r\\n- Everyone worked towards the group assignment. Split the group of 6 into 2 for part 1 and two. Each person contributed to the questions in their section. Only I pushed it for simplicity.\\r\\n\", \"html_url\": \"https://github.com/CultureAsData-UIUC/is310-fall-2024-group-5/issues/2\", \"assignee\": null, \"assignees_logins\": null, \"labels\": \"[]\", \"milestone\": null, \"draft\": null, \"comments\": 0.0, \"state_reason\": \"completed\", \"closed_by_login\": \"OctaneCodes\", \"reactions.total_count\": 0.0, \"issue_duration\": 0.0, \"issue_associated_with_pull_request\": false, \"pull_request.url\": null, \"issue_status_on_project_board\": NaN, \"issue_date_type\": \"closed_at\", \"issue_date\": \"2024-09-23 15:59:34+00:00\"}], \"data-8ca839289fa7a6c8596e9a550233f29a\": [{\"user_login\": \"OctaneCodes\", \"title\": \"format previous week's md files\", \"state\": NaN, \"body\": NaN, \"html_url\": NaN, \"assignee\": null, \"assignees_logins\": null, \"labels\": NaN, \"milestone\": null, \"draft\": null, \"comments\": null, \"state_reason\": NaN, \"closed_by_login\": NaN, \"reactions.total_count\": null, \"issue_duration\": null, \"issue_associated_with_pull_request\": false, \"pull_request.url\": null, \"issue_status_on_project_board\": \"Todo\", \"issue_date_type\": \"created_at\", \"issue_date\": \"2024-09-24 19:26:38+00:00\"}, {\"user_login\": \"OctaneCodes\", \"title\": \"format previous week's md files\", \"state\": NaN, \"body\": NaN, \"html_url\": NaN, \"assignee\": null, \"assignees_logins\": null, \"labels\": NaN, \"milestone\": null, \"draft\": null, \"comments\": null, \"state_reason\": NaN, \"closed_by_login\": NaN, \"reactions.total_count\": null, \"issue_duration\": null, \"issue_associated_with_pull_request\": false, \"pull_request.url\": null, \"issue_status_on_project_board\": \"Todo\", \"issue_date_type\": \"updated_at\", \"issue_date\": null}, {\"user_login\": \"OctaneCodes\", \"title\": \"format previous week's md files\", \"state\": NaN, \"body\": NaN, \"html_url\": NaN, \"assignee\": null, \"assignees_logins\": null, \"labels\": NaN, \"milestone\": null, \"draft\": null, \"comments\": null, \"state_reason\": NaN, \"closed_by_login\": NaN, \"reactions.total_count\": null, \"issue_duration\": null, \"issue_associated_with_pull_request\": false, \"pull_request.url\": null, \"issue_status_on_project_board\": \"Todo\", \"issue_date_type\": \"closed_at\", \"issue_date\": null}], \"data-6d8c637979439559cde8c24c4f0292fa\": [{\"user_login\": \"esr27\", \"title\": \"[Weekly Report] Project Manager for {2}\", \"state\": \"open\", \"body\": \"This is a template for project managers to report their weekly progress. Please fill out the following sections. You can also include any additional information that you think is relevant.\\r\\n\\r\\n# Project Manager Weekly Report\\r\\n\\r\\n## Weekly Checklist\\r\\n\\r\\n- [\\u2713 ] Created a weekly report for the group project\\r\\n- [\\u2713] Updated the project board\\r\\n- [\\u2713] Checked in with team members\\r\\n- [\\u2713] Assigned tasks for the upcoming week\\r\\n- [\\u2713] Close issue once the weekly tasks are completed\\r\\n\\r\\n## Weekly Summary:\\r\\n*Try to answer the following questions as best you can, though you are welcome to keep it brief and in bullet points.*\\r\\n\\r\\n- What were the goals for this week for the group project?\\r\\n    -Instructor feedback told us that scraping from baseball-reference was against the terms of service, so we needed to find a source that contains the historical information that we need, but also allows scraping.\\r\\n    -Find tools for webscraping\\r\\n    -Create a more concrete definition of the digital object that we are studying.\\r\\n- What has been accomplished?\\r\\n    -Identified the baseball savant API. \\r\\n    -Found an open source project for scraping baseball websites' data.\\r\\n    -Identified our particular digital object: The record and cultural impact of a baseball game.\\r\\n- Any problems or issues that need resolving?\\r\\n    -The open source project that we found provides resources for scraping baseball-reference.... We need to investigate the legality.\\r\\n         \\r\\n\\r\\n## Next Week's Goals:\\r\\n*Try to answer the following questions as best you can, though you are welcome to keep it brief and in bullet points.*\\r\\n\\r\\n- What are the goals for the upcoming week?\\r\\n      -Identify a LEGAL method to get historical baseball data. \\r\\n     -Begin the web scraping process on baseball-savant.\\r\\n     -Create a format for the scraped data, begin putting it into a database for analysis\\r\\n- Who is assigned to what tasks?\\r\\n    -Nick, Yosef, Ethan -- Web scraping, formatting, database\\r\\n    -Jason, Kohta, Sam -- Identifying sources, cross reference information to ensure accuracy. Identify more sources (other historical leagues?)\\r\\n\\r\\n## Notes/Additional Information:\\r\\n*Optional additional information*\\r\\n\\r\\n- Anything else to highlight?\", \"html_url\": \"https://github.com/CultureAsData-UIUC/is310-fall-2024-group-5/issues/4\", \"assignee\": null, \"assignees_logins\": null, \"labels\": \"[]\", \"milestone\": null, \"draft\": null, \"comments\": 0.0, \"state_reason\": NaN, \"closed_by_login\": NaN, \"reactions.total_count\": 0.0, \"issue_duration\": null, \"issue_associated_with_pull_request\": false, \"pull_request.url\": null, \"issue_status_on_project_board\": NaN, \"issue_date_type\": \"created_at\", \"issue_date\": \"2024-10-03 19:09:40+00:00\"}, {\"user_login\": \"esr27\", \"title\": \"[Weekly Report] Project Manager for {2}\", \"state\": \"open\", \"body\": \"This is a template for project managers to report their weekly progress. Please fill out the following sections. You can also include any additional information that you think is relevant.\\r\\n\\r\\n# Project Manager Weekly Report\\r\\n\\r\\n## Weekly Checklist\\r\\n\\r\\n- [\\u2713 ] Created a weekly report for the group project\\r\\n- [\\u2713] Updated the project board\\r\\n- [\\u2713] Checked in with team members\\r\\n- [\\u2713] Assigned tasks for the upcoming week\\r\\n- [\\u2713] Close issue once the weekly tasks are completed\\r\\n\\r\\n## Weekly Summary:\\r\\n*Try to answer the following questions as best you can, though you are welcome to keep it brief and in bullet points.*\\r\\n\\r\\n- What were the goals for this week for the group project?\\r\\n    -Instructor feedback told us that scraping from baseball-reference was against the terms of service, so we needed to find a source that contains the historical information that we need, but also allows scraping.\\r\\n    -Find tools for webscraping\\r\\n    -Create a more concrete definition of the digital object that we are studying.\\r\\n- What has been accomplished?\\r\\n    -Identified the baseball savant API. \\r\\n    -Found an open source project for scraping baseball websites' data.\\r\\n    -Identified our particular digital object: The record and cultural impact of a baseball game.\\r\\n- Any problems or issues that need resolving?\\r\\n    -The open source project that we found provides resources for scraping baseball-reference.... We need to investigate the legality.\\r\\n         \\r\\n\\r\\n## Next Week's Goals:\\r\\n*Try to answer the following questions as best you can, though you are welcome to keep it brief and in bullet points.*\\r\\n\\r\\n- What are the goals for the upcoming week?\\r\\n      -Identify a LEGAL method to get historical baseball data. \\r\\n     -Begin the web scraping process on baseball-savant.\\r\\n     -Create a format for the scraped data, begin putting it into a database for analysis\\r\\n- Who is assigned to what tasks?\\r\\n    -Nick, Yosef, Ethan -- Web scraping, formatting, database\\r\\n    -Jason, Kohta, Sam -- Identifying sources, cross reference information to ensure accuracy. Identify more sources (other historical leagues?)\\r\\n\\r\\n## Notes/Additional Information:\\r\\n*Optional additional information*\\r\\n\\r\\n- Anything else to highlight?\", \"html_url\": \"https://github.com/CultureAsData-UIUC/is310-fall-2024-group-5/issues/4\", \"assignee\": null, \"assignees_logins\": null, \"labels\": \"[]\", \"milestone\": null, \"draft\": null, \"comments\": 0.0, \"state_reason\": NaN, \"closed_by_login\": NaN, \"reactions.total_count\": 0.0, \"issue_duration\": null, \"issue_associated_with_pull_request\": false, \"pull_request.url\": null, \"issue_status_on_project_board\": NaN, \"issue_date_type\": \"updated_at\", \"issue_date\": \"2024-10-03 19:09:40+00:00\"}, {\"user_login\": \"esr27\", \"title\": \"[Weekly Report] Project Manager for {2}\", \"state\": \"open\", \"body\": \"This is a template for project managers to report their weekly progress. Please fill out the following sections. You can also include any additional information that you think is relevant.\\r\\n\\r\\n# Project Manager Weekly Report\\r\\n\\r\\n## Weekly Checklist\\r\\n\\r\\n- [\\u2713 ] Created a weekly report for the group project\\r\\n- [\\u2713] Updated the project board\\r\\n- [\\u2713] Checked in with team members\\r\\n- [\\u2713] Assigned tasks for the upcoming week\\r\\n- [\\u2713] Close issue once the weekly tasks are completed\\r\\n\\r\\n## Weekly Summary:\\r\\n*Try to answer the following questions as best you can, though you are welcome to keep it brief and in bullet points.*\\r\\n\\r\\n- What were the goals for this week for the group project?\\r\\n    -Instructor feedback told us that scraping from baseball-reference was against the terms of service, so we needed to find a source that contains the historical information that we need, but also allows scraping.\\r\\n    -Find tools for webscraping\\r\\n    -Create a more concrete definition of the digital object that we are studying.\\r\\n- What has been accomplished?\\r\\n    -Identified the baseball savant API. \\r\\n    -Found an open source project for scraping baseball websites' data.\\r\\n    -Identified our particular digital object: The record and cultural impact of a baseball game.\\r\\n- Any problems or issues that need resolving?\\r\\n    -The open source project that we found provides resources for scraping baseball-reference.... We need to investigate the legality.\\r\\n         \\r\\n\\r\\n## Next Week's Goals:\\r\\n*Try to answer the following questions as best you can, though you are welcome to keep it brief and in bullet points.*\\r\\n\\r\\n- What are the goals for the upcoming week?\\r\\n      -Identify a LEGAL method to get historical baseball data. \\r\\n     -Begin the web scraping process on baseball-savant.\\r\\n     -Create a format for the scraped data, begin putting it into a database for analysis\\r\\n- Who is assigned to what tasks?\\r\\n    -Nick, Yosef, Ethan -- Web scraping, formatting, database\\r\\n    -Jason, Kohta, Sam -- Identifying sources, cross reference information to ensure accuracy. Identify more sources (other historical leagues?)\\r\\n\\r\\n## Notes/Additional Information:\\r\\n*Optional additional information*\\r\\n\\r\\n- Anything else to highlight?\", \"html_url\": \"https://github.com/CultureAsData-UIUC/is310-fall-2024-group-5/issues/4\", \"assignee\": null, \"assignees_logins\": null, \"labels\": \"[]\", \"milestone\": null, \"draft\": null, \"comments\": 0.0, \"state_reason\": NaN, \"closed_by_login\": NaN, \"reactions.total_count\": 0.0, \"issue_duration\": null, \"issue_associated_with_pull_request\": false, \"pull_request.url\": null, \"issue_status_on_project_board\": NaN, \"issue_date_type\": \"closed_at\", \"issue_date\": null}], \"data-d0d61c5db4cf73cb7aab8df5967598b3\": [{\"user_login\": \"yosefstifanos\", \"title\": \"[Weekly Report] Project Manager for {3}\", \"state\": \"open\", \"body\": \"This is a template for project managers to report their weekly progress. Please fill out the following sections. You can also include any additional information that you think is relevant.\\r\\n\\r\\nProject Manager Weekly Report\\r\\n\\r\\nWeekly Checklist\\r\\n\\r\\n- [x] Created a weekly report for the group project\\r\\n- [x] Updated the project board\\r\\n- [x] Checked in with team members\\r\\n- [x] Assigned tasks for the upcoming week\\r\\n- [x] Close issue once the weekly tasks are completed\\r\\n\\r\\nWeekly Summary:\\r\\nWhat were the goals for this week for the group project?\\r\\n- Find a new data source that allows scraping, as baseball-reference was against the terms of service\\r\\n- Identify tools for web scraping\\r\\n- Create a more concrete definition of the digital object we're studying\\r\\n\\r\\nWhat has been accomplished?\\r\\n- Identified the Baseball Savant API as a potential data source\\r\\n- Found an open-source project for scraping baseball websites' data\\r\\n- Defined our digital object: The record and cultural impact of a baseball game\\r\\n- Created a sample dataset of player statistics for 2024 (as seen in player-stats-2024.csv)\\r\\n\\r\\nAny problems or issues that need resolving?\\r\\n- The open-source project we found provides resources for scraping baseball-reference, which may not be legal. We need to investigate the legality of this approach.\\r\\n- We need to ensure that using Baseball Savant is within the terms of service for our project.\\r\\n\\r\\nNext Week's Goals:\\r\\nWhat are the goals for the upcoming week?\\r\\n- Identify a legal method to obtain historical baseball data\\r\\n- Begin the web scraping process on Baseball Savant\\r\\n- Create a format for the scraped data and begin putting it into a database for analysis\\r\\n- Explore the possibility of creating more comprehensive datasets, similar to the player-stats-2024.csv file\\r\\n\\r\\nWho is assigned to what tasks?\\r\\n- Web scraping, formatting, database: Nick, Yosef, Ethan\\r\\n- Identifying sources, cross-referencing information to ensure accuracy, identifying more sources (other historical leagues?): Jason, Kohta, Sam\\r\\n\\r\\nNotes/Additional Information:\\r\\n- We've successfully created a sample dataset (player-stats-2024.csv) that includes various player statistics and a subjective \\\"Like\\\" column. This can serve as a template for our future data collection and analysis.\\r\\n- We need to be cautious about the legal implications of web scraping and ensure we're following the terms of service for any data sources we use.\\r\\n- The team should consider how to expand on the current dataset, possibly including more historical data or additional metrics that could be relevant to analyzing the cultural impact of baseball games.\\r\\n- We may want to explore creating data visualizations or analysis tools using the collected data, as demonstrated in the Jupyter notebook (player-stats-2024.csv_steps.ipynb).\\r\\n- MORE COMMUNICATION! We are dead quiet which each other. Start talking more and responding. A couple of you do not engage in activity or work at all, from what I can see at least. Talk more, communicate, and share ideas. \", \"html_url\": \"https://github.com/CultureAsData-UIUC/is310-fall-2024-group-5/issues/5\", \"assignee\": null, \"assignees_logins\": null, \"labels\": \"[]\", \"milestone\": null, \"draft\": null, \"comments\": 0.0, \"state_reason\": NaN, \"closed_by_login\": NaN, \"reactions.total_count\": 0.0, \"issue_duration\": null, \"issue_associated_with_pull_request\": false, \"pull_request.url\": null, \"issue_status_on_project_board\": NaN, \"issue_date_type\": \"created_at\", \"issue_date\": \"2024-10-11 21:46:33+00:00\"}, {\"user_login\": \"yosefstifanos\", \"title\": \"[Weekly Report] Project Manager for {3}\", \"state\": \"open\", \"body\": \"This is a template for project managers to report their weekly progress. Please fill out the following sections. You can also include any additional information that you think is relevant.\\r\\n\\r\\nProject Manager Weekly Report\\r\\n\\r\\nWeekly Checklist\\r\\n\\r\\n- [x] Created a weekly report for the group project\\r\\n- [x] Updated the project board\\r\\n- [x] Checked in with team members\\r\\n- [x] Assigned tasks for the upcoming week\\r\\n- [x] Close issue once the weekly tasks are completed\\r\\n\\r\\nWeekly Summary:\\r\\nWhat were the goals for this week for the group project?\\r\\n- Find a new data source that allows scraping, as baseball-reference was against the terms of service\\r\\n- Identify tools for web scraping\\r\\n- Create a more concrete definition of the digital object we're studying\\r\\n\\r\\nWhat has been accomplished?\\r\\n- Identified the Baseball Savant API as a potential data source\\r\\n- Found an open-source project for scraping baseball websites' data\\r\\n- Defined our digital object: The record and cultural impact of a baseball game\\r\\n- Created a sample dataset of player statistics for 2024 (as seen in player-stats-2024.csv)\\r\\n\\r\\nAny problems or issues that need resolving?\\r\\n- The open-source project we found provides resources for scraping baseball-reference, which may not be legal. We need to investigate the legality of this approach.\\r\\n- We need to ensure that using Baseball Savant is within the terms of service for our project.\\r\\n\\r\\nNext Week's Goals:\\r\\nWhat are the goals for the upcoming week?\\r\\n- Identify a legal method to obtain historical baseball data\\r\\n- Begin the web scraping process on Baseball Savant\\r\\n- Create a format for the scraped data and begin putting it into a database for analysis\\r\\n- Explore the possibility of creating more comprehensive datasets, similar to the player-stats-2024.csv file\\r\\n\\r\\nWho is assigned to what tasks?\\r\\n- Web scraping, formatting, database: Nick, Yosef, Ethan\\r\\n- Identifying sources, cross-referencing information to ensure accuracy, identifying more sources (other historical leagues?): Jason, Kohta, Sam\\r\\n\\r\\nNotes/Additional Information:\\r\\n- We've successfully created a sample dataset (player-stats-2024.csv) that includes various player statistics and a subjective \\\"Like\\\" column. This can serve as a template for our future data collection and analysis.\\r\\n- We need to be cautious about the legal implications of web scraping and ensure we're following the terms of service for any data sources we use.\\r\\n- The team should consider how to expand on the current dataset, possibly including more historical data or additional metrics that could be relevant to analyzing the cultural impact of baseball games.\\r\\n- We may want to explore creating data visualizations or analysis tools using the collected data, as demonstrated in the Jupyter notebook (player-stats-2024.csv_steps.ipynb).\\r\\n- MORE COMMUNICATION! We are dead quiet which each other. Start talking more and responding. A couple of you do not engage in activity or work at all, from what I can see at least. Talk more, communicate, and share ideas. \", \"html_url\": \"https://github.com/CultureAsData-UIUC/is310-fall-2024-group-5/issues/5\", \"assignee\": null, \"assignees_logins\": null, \"labels\": \"[]\", \"milestone\": null, \"draft\": null, \"comments\": 0.0, \"state_reason\": NaN, \"closed_by_login\": NaN, \"reactions.total_count\": 0.0, \"issue_duration\": null, \"issue_associated_with_pull_request\": false, \"pull_request.url\": null, \"issue_status_on_project_board\": NaN, \"issue_date_type\": \"updated_at\", \"issue_date\": \"2024-10-11 22:01:20+00:00\"}, {\"user_login\": \"yosefstifanos\", \"title\": \"[Weekly Report] Project Manager for {3}\", \"state\": \"open\", \"body\": \"This is a template for project managers to report their weekly progress. Please fill out the following sections. You can also include any additional information that you think is relevant.\\r\\n\\r\\nProject Manager Weekly Report\\r\\n\\r\\nWeekly Checklist\\r\\n\\r\\n- [x] Created a weekly report for the group project\\r\\n- [x] Updated the project board\\r\\n- [x] Checked in with team members\\r\\n- [x] Assigned tasks for the upcoming week\\r\\n- [x] Close issue once the weekly tasks are completed\\r\\n\\r\\nWeekly Summary:\\r\\nWhat were the goals for this week for the group project?\\r\\n- Find a new data source that allows scraping, as baseball-reference was against the terms of service\\r\\n- Identify tools for web scraping\\r\\n- Create a more concrete definition of the digital object we're studying\\r\\n\\r\\nWhat has been accomplished?\\r\\n- Identified the Baseball Savant API as a potential data source\\r\\n- Found an open-source project for scraping baseball websites' data\\r\\n- Defined our digital object: The record and cultural impact of a baseball game\\r\\n- Created a sample dataset of player statistics for 2024 (as seen in player-stats-2024.csv)\\r\\n\\r\\nAny problems or issues that need resolving?\\r\\n- The open-source project we found provides resources for scraping baseball-reference, which may not be legal. We need to investigate the legality of this approach.\\r\\n- We need to ensure that using Baseball Savant is within the terms of service for our project.\\r\\n\\r\\nNext Week's Goals:\\r\\nWhat are the goals for the upcoming week?\\r\\n- Identify a legal method to obtain historical baseball data\\r\\n- Begin the web scraping process on Baseball Savant\\r\\n- Create a format for the scraped data and begin putting it into a database for analysis\\r\\n- Explore the possibility of creating more comprehensive datasets, similar to the player-stats-2024.csv file\\r\\n\\r\\nWho is assigned to what tasks?\\r\\n- Web scraping, formatting, database: Nick, Yosef, Ethan\\r\\n- Identifying sources, cross-referencing information to ensure accuracy, identifying more sources (other historical leagues?): Jason, Kohta, Sam\\r\\n\\r\\nNotes/Additional Information:\\r\\n- We've successfully created a sample dataset (player-stats-2024.csv) that includes various player statistics and a subjective \\\"Like\\\" column. This can serve as a template for our future data collection and analysis.\\r\\n- We need to be cautious about the legal implications of web scraping and ensure we're following the terms of service for any data sources we use.\\r\\n- The team should consider how to expand on the current dataset, possibly including more historical data or additional metrics that could be relevant to analyzing the cultural impact of baseball games.\\r\\n- We may want to explore creating data visualizations or analysis tools using the collected data, as demonstrated in the Jupyter notebook (player-stats-2024.csv_steps.ipynb).\\r\\n- MORE COMMUNICATION! We are dead quiet which each other. Start talking more and responding. A couple of you do not engage in activity or work at all, from what I can see at least. Talk more, communicate, and share ideas. \", \"html_url\": \"https://github.com/CultureAsData-UIUC/is310-fall-2024-group-5/issues/5\", \"assignee\": null, \"assignees_logins\": null, \"labels\": \"[]\", \"milestone\": null, \"draft\": null, \"comments\": 0.0, \"state_reason\": NaN, \"closed_by_login\": NaN, \"reactions.total_count\": 0.0, \"issue_duration\": null, \"issue_associated_with_pull_request\": false, \"pull_request.url\": null, \"issue_status_on_project_board\": NaN, \"issue_date_type\": \"closed_at\", \"issue_date\": null}]}}, {\"mode\": \"vega-lite\"});\n",
       "</script>"
      ],
      "text/plain": [
       "alt.VConcatChart(...)"
      ]
     },
     "execution_count": 4,
     "metadata": {},
     "output_type": "execute_result"
    }
   ],
   "source": [
    "# Once again melt the issues dataframe from wide to long format so that we can have all the issue dates in one column called issue_date\n",
    "melted_issues_df = issues_df.melt(id_vars=['user.login', 'title', 'state', 'body', 'html_url', 'assignee', 'assignees_logins', 'labels', 'milestone', 'draft', 'comments', 'state_reason', 'closed_by.login', 'reactions.total_count', 'issue_duration', 'issue_associated_with_pull_request', 'pull_request.url', 'issue_status_on_project_board'], value_vars=['created_at', 'updated_at', 'closed_at'], var_name='issue_date_type', value_name='issue_date')\n",
    "\n",
    "# Rename columns for because Altair does not let us use '.' in the column names\n",
    "melted_issues_df = melted_issues_df.rename(columns={\n",
    "    'user.login': 'user_login', \n",
    "    'closed_by.login': 'closed_by_login'\n",
    "})\n",
    "\n",
    "# Sort the DataFrame by issue_date\n",
    "melted_issues_df = melted_issues_df.sort_values(by='issue_date')\n",
    "\n",
    "# Get the unique issue titles\n",
    "issue_titles = melted_issues_df['title'].unique().tolist()\n",
    "\n",
    "# Initialize an empty list to store the charts\n",
    "charts = []\n",
    "# Loop through each issue title to create a chart for the issue\n",
    "for title in issue_titles:\n",
    "    # Create a selection so that we can highlight the contributions of each group member\n",
    "    selection = alt.selection_point(fields=['user_login'], bind='legend')\n",
    "    \n",
    "    # Filter the DataFrame for the current issue title\n",
    "    subset_data = melted_issues_df[melted_issues_df['title'] == title]\n",
    "    \n",
    "    # Initialize a list to store subtitles for the chart\n",
    "    subtitle = []\n",
    "    \n",
    "    # Check if the issue is associated with a pull request\n",
    "    has_pr = subset_data[subset_data['issue_associated_with_pull_request'] == True]\n",
    "    if not has_pr.empty:\n",
    "        # If the issue is associated with a pull request, get the URL of the pull request and add it to the subtitle\n",
    "        pr_url = subset_data['pull_request.url'].unique()[0]\n",
    "        subtitle.append(f\"Issue associated with a pull request ({pr_url}).\")\n",
    "    \n",
    "    # Check if the issue is associated with a project board\n",
    "    has_project_board = subset_data[subset_data['issue_status_on_project_board'].notna()]\n",
    "    if not has_project_board.empty:\n",
    "        # If the issue is associated with a project board, get the status of the issue on the project board and add it to the subtitle\n",
    "        board_status = subset_data['issue_status_on_project_board'].unique()[0]\n",
    "        subtitle.append(f\"Issue is associated with a project board and has status {board_status}.\")\n",
    "    \n",
    "    # If no subtitles were added, add a default message\n",
    "    if not subtitle:\n",
    "        subtitle = \"Issue is not associated with a pull request or a project board.\"\n",
    "    \n",
    "    # Create a line chart for the current issue title\n",
    "    chart = alt.Chart(subset_data).mark_line(point=True).encode(\n",
    "        x='issue_date:T', # Use the issue date as the x-axis\n",
    "        y=alt.Y('title', axis=alt.Axis(title=None, labels=False)), # Use the title as the y-axis and don't show the axis labels or title since we have the title in the chart title\n",
    "        color='user_login:N', # Color the lines by the user login\n",
    "        tooltip=[\n",
    "            'user_login', 'closed_by_login', 'yearmonthdatehoursminutes(issue_date)', 'issue_date_type', \n",
    "            'title', 'body', 'state', 'assignee', 'assignees_logins', 'html_url'\n",
    "        ], # Show the user login, closed by login, issue date, issue date type, title, body, state, assignee, assignees logins, and HTML URL in the tooltip\n",
    "        opacity=alt.condition(selection, alt.value(1), alt.value(0.1)) # Set the opacity to 1 if the user login is selected and 0.1 if not\n",
    "    ).add_params(selection).properties(\n",
    "        # Set the title of the chart to be the issue title and the subtitle to be the subtitles we created\n",
    "        title=alt.Title(f\"Issue: {title}\", subtitle=subtitle)\n",
    "    )\n",
    "    \n",
    "    # Append the chart to the list of charts\n",
    "    charts.append(chart)\n",
    "\n",
    "# Concatenate all the charts vertically and resolve the x-scale to be shared\n",
    "alt.vconcat(*charts).resolve_scale(x='shared')"
   ]
  },
  {
   "cell_type": "markdown",
   "metadata": {},
   "source": [
    "Looking at your issues and project board, it looks like you initially used issues for project management, but then stopped for some reason? I also noticed that many of the issues are being closed immediately after being opened so there might be room to leverage issues more as you complete the project. \n",
    "\n",
    "I realize using a new platform and interface for project management can be difficult, but I would encourage you to think about how you can use these tools to not only help you manage your project and communicate with each other, but also document your work for the final project."
   ]
  },
  {
   "cell_type": "markdown",
   "metadata": {},
   "source": [
    "## Group Assignments to Date Feedback\n",
    "\n",
    "The following feedback is for the three group assignments you have completed so far. Since there isn't clear documentation on who completed what activity, I am currently using the git history to assess contributions, but I am happy to adjust this assessment if you provide me with more information."
   ]
  },
  {
   "cell_type": "markdown",
   "metadata": {},
   "source": [
    "### Mass Digitization & Digital Libraries Assignment\n",
    "\n",
    "- It seems like the `Group Document.md` is the correct file for this assignment, but please correct me if I am wrong.\n",
    "- Overall, I think you did a great job on this assignment, and I particularly appreciated that you detailed how you planned to work (you're one of the few groups that included that requested information!). I also thought your assessment of how sports data is digitized and preserved, emphasizing the importance of metadata and the shift from limited historical access to modern, comprehensive digital archives was spot on!\n",
    "- I appreciated that you included some names of which individuals completed which sections (maybe just Jason in this case?) and included links to the sources you found (though would recommend in future correctly formatting links for Markdown files). I particularly liked your inclusion of the International Olympic Committee's digital archive as an example of one of the oldest digital sports archives, as well as you detailing some of the defunct projects. Finally, I thought your deep dive into statscast and the Curry viral video was great as well!\n",
    "- In the git history, I'm seeing Yosef and Nick listed, so will be giving full marks to them and Jason. But feel free to correct me if I am wrong.\n",
    "\n",
    "Status: Complete & Full Marks for Yosef, Nick, and Jason (Though happy to update this if you can share more details about how you worked together on this assignment)"
   ]
  },
  {
   "cell_type": "markdown",
   "metadata": {},
   "source": [
    "### Critical Cultural Data Explorations Assignment\n",
    "\n",
    "- I believe that this assignment is the `critical_cultural_data_explorations.md` file, but again please correct me if I am wrong or missing something.\n",
    "- Overall, I thought you did great on this assignment and really appreciated that you detailed who worked on which sections.\n",
    "- For Part 1, I thought you did a great job with your detailed comparison of the 1955 and 2024 baseball datasets, and specifically how new technologies have transformed the way data is collected and represented in baseball. I appreciated how you noted that the 1955 dataset focused on traditional, team-centric statistics, offering a snapshot of performance that aligns with the era’s priorities. In contrast, your description of the 2024 dataset, enriched with Statcast-enabled advanced metrics like exit velocity and pitch spin rate, effectively showcased the shift to player-centric analysis and the growing focus on granular data. This distinction underscored the changing power dynamics and the evolution of data emphasis over time, which you communicated clearly. Well done on drawing attention to how these datasets reflect broader cultural trends within the sport!\n",
    "- For Part 2, I thought you did a great job as well and was especially impressed with the diversity of tools used, such as ChatGPT, Meta, and Gemini, and how you evaluated their capabilities in analyzing the datasets. I thought your focus on the limitations was very strong, especially how though these AI tools effectively listed statistics, they lacked deeper contextual analysis or acknowledgment of data gaps in the 1955 dataset. \n",
    "- Well done on this assignment overall and would encourage you to consider incorporating some of this work into final project data essay. While the git history only shows Nick, I will be giving full marks to all group members, but please correct me if I am wrong.\n",
    "\n",
    "Status: Complete & Full Marks for Everyone (Though happy to update this if you can share more details about how you worked together on this assignment)"
   ]
  },
  {
   "cell_type": "markdown",
   "metadata": {},
   "source": [
    "### Proprietary & Perspectival Dataset Creation Assignment\n",
    "\n",
    "- It seems like the assignment is in your `proprietary-perspectival-dataset-creation` folder, but please correct me if I am wrong.\n",
    "- Overall, I thought your choice of Baseballsavant.com made sense given your final project. The `proprietary_platform_exploration.md` was a bit thin, but did appreciate that you did cover the main relevant points in terms of accessing data. It doesn't seem like you covered the historical shift in the terms of use but maybe that is because the Wayback Machine was down? If that's the case, it would be helpful to note that in the assignment.\n",
    "- The `data-reflection-documentation.md` is much more detailed which is great! I also appreciate that you not only including the data but also a notebook exploring the data. I thought your documentation was very detailed and appreciated that you included information about the data types in the `Dataset Structure` section. I thought your decision to do a `Like Player` column for the subjective element of the dataset is an interesting approach, and I appreciated that you detailed your rationale, as well as some the limitations of your approach to encoding subjectivity into the dataset.\n",
    "- I particularly appreciated your thoughtful discussion of your data collection process, the platform dynamics and how that shaped this data, as well as the legal and ethical considerations of both reusing this data and licensing it. Overall fantastic work on this one!\n",
    "- In the git history, I'm only seeing activity from Yosef and a little bit from Jason, so they will be receiving full marks. But please correct me if I am wrong. \n",
    "\n",
    "Status: Complete & Full Marks for Yosef and Jason (Though happy to update this if you can share more details about how you worked together on this assignment)"
   ]
  },
  {
   "cell_type": "markdown",
   "metadata": {},
   "source": [
    "## Mid-Semester Dataset Update Feedback"
   ]
  },
  {
   "cell_type": "markdown",
   "metadata": {},
   "source": [
    "### Dataset Feedback\n",
    "\n",
    "I appreciate that you include two versions of your dataset, as well as a notebook with some preliminary analysis.\n",
    "\n",
    "Overall, it seems like the data is well formatted, which makes sense since it seems like you just downloaded it from Baseballsavant? I'm curious why you didn't just use a package like `pybaseball` [https://github.com/jldbc/pybaseball](https://github.com/jldbc/pybaseball) to see if there were other datasets you might want to capture. But regardless, I did appreciate that you detailed your narrowing of available columns, as well as what each column represents.\n",
    "\n",
    "I'm not convinced that the current data comes anywhere close to your stated interest in exploring: \n",
    "\n",
    "> Has it changed how people consume the sport? Hyper-analyzing?  Sports gambling has become a huge focus.  What meaning is the data collected now? What impact does it have?  \n",
    "\n",
    "So, I'm wondering if there's additional data you have yet to collect that would get at those phenomena? In particular, I'm wondering how these player statistics data get at your interest in how baseball has been consumed, hyper-analyzed, and how it has impacted sports gambling. I'm also concerned that you aren't really verifying this statscast data at all. I realize it might be difficult but otherwise all you've done is download a dataset and do some basic analyses on it, so not sure how that meets the requirements of the project. I do think there's several ways you could approach your stated interests, so happy to set up a meeting to discuss if you would like. You might also consider digging into some of the available scholarship, for example there's a Digital Humanities scholar, Katherine Walden, at Notre Dame who specializes in the history of baseball and digital humanities, so you might look at some of her work to see if it helps you clarify your project."
   ]
  },
  {
   "cell_type": "markdown",
   "metadata": {},
   "source": [
    "### Documentation Feedback\n",
    "\n",
    "I thought your `README.md` was well organized, and I appreciated that it detailed a lot of the rationale for your choices. I do think some of your previous assignment work could be included in the `README.md` to help provide more context for your project. \n",
    "\n",
    "I do think you could also include a bit more detail on how you are using the Baseball savant search download interface, and you might include a screenshot or two to help a reader understand how you are collecting data. I did appreciate that you included some of your search filters so that a reader could replicate your search in the interface. \n",
    "\n",
    "I also appreciated that you included a list of who contributed to which aspects though it is concerning that not all group members are listed. So, it seems like at the very least that there's an imbalance in the division of labor, but I would like to hear from you all if that is the case.\n",
    "\n",
    "As I mentioned earlier, while your dataset is documented and included in your repository, it does not fully align with the project’s core objectives. Specifically, it’s important to articulate what cultural phenomena you are trying to capture through your data and how this data helps illuminate that phenomenon. I encourage you to think more deeply about what you aim to reveal through your data and whether the data you’ve gathered is suitable for that purpose. Simply downloading data and using it without modification is not sufficient; you should have a strategy for verifying its accuracy and ensuring that it aligns with your project goals.\n",
    "\n",
    "One of my main concerns is that your approach feels more like a data science exercise focused on statistical analysis. While analysis is important, the primary aim of this course is to create and curate data that helps us explore and understand cultural phenomena. Your focus should be on the data itself, its relevance, and its context, rather than just the analysis.\n",
    "\n",
    "In your case, this might involve considering how to validate your Statcast data and how you plan to augment it, both of which are necessary when using existing data. Alternatively, it might be helpful to revisit your initial motivations. It’s clear that your group is interested in the significance of statistics in baseball, which is an excellent starting point. The question then becomes: how do these statistics wield such influence within baseball culture? Part of this exploration could include how these statistics shape the economics of the sport or affect our understanding, consumption, and participation in the game.\n",
    "\n",
    "To capture these broader cultural dynamics, consider gathering additional data that reflects this impact. This could include social media data, economic data related to baseball (e.g., betting trends or ticket sales), or even fan engagement statistics. This shift in focus will help ensure that your project aligns with the goals of the course and fosters a deeper understanding of the intersection between data and cultural phenomena."
   ]
  },
  {
   "cell_type": "markdown",
   "metadata": {},
   "source": [
    "### Progress from Initial Proposal Feedback\n",
    "\n",
    "In the initial proposal, I had asked you to address the following questions in your project (paraphrased):\n",
    "\n",
    "- [ ]  What specific data sources will you use to collect the data on player performance, team statistics, and game outcomes? How do you plan to analyze this data to uncover trends and patterns? What patterns are meaningful to your topic?\n",
    "- [ ] Given that you're working with existing compiled sports statistics, which can sometimes be prone to errors or inconsistencies, how will you ensure the quality of the data you're using? What steps will you take to verify the accuracy of the data?\n",
    "- [ ] How will you get around any legal restrictions on data collection? Are there resources like APIs you could use?\n",
    "- [ ] How will you equitably distribute tasks among the group? What happens if collecting and curating the data takes longer than anticipated? How will that impact the other roles? \n",
    "\n",
    "My current assessment is that you have completed some of these tasks (for example, accessing the baseball data) but there are some that remain to confront, as well as many new questions for you to address. In particular, I think you need to do some more work on refining what and how you collect this data. While I think you have a good foundation so far, I'm worried that you are not capturing the full scope of the project and that you might be missing some of the larger cultural dynamics that would shape this data.\n",
    "\n",
    "I think rather than only trying to find correlations between players statistics, you might consider additional data sources that could help you to understand how these statistics are shaping the sport and its consumption. I realize we are already well along in the semester so starting new data collection might feel daunting, but I think if all members contribute that it is doable. Furthermore, I am happy to consult with you or help you brainstorm what might be doable in the remaining weeks.\n",
    "\n",
    "Finally, I think you could incorporate more of your previous work into your dataset documentation, but also need to consider the division of labor. Increasingly, it seems like only a few members are contributing to the project, so I would like you to collectively consider how can you right this imbalance and make sure that all members are contributing to the project. That might look like some members doing a bit more in the next few weeks, but I leave it up to you all to decide how to proceed.\n",
    "\n",
    "I do think you are on the right track with your project, but I think addressing some of the concerns I have outlined above will help ensure you are on target to meet the project goals and requirements. I also think bringing in some of our course readings, as well as additional scholarship, will also help flush out and situate your project. I would encourage you to reach out to me if you have any questions or concerns about my feedback or how to proceed with the project.\n",
    "\n",
    "### Final Grade\n",
    "\n",
    "Your grade for this assignment is currently a B+. If you can show additional data collection that is relevant to your project **or** verify the data you have collected, then I would be happy to bump you up to an A-. Since only Yosef, Nick, and Ethan are listed as contributing to the update, and I don't see anything in the git history, they will currently be receiving the grade. For Jason, Sam, and Kohta, you are welcome to articulate how you contributed if you would like to receive a grade for this assignment. Otherwise, the only other option is for the three of you to plan to contribute more to the project moving forward and get the consent of your fellow group members in which case I would be happy to share the grade among all group members. Again, though if the current documentation is inaccurate, please let me know and I will adjust the grades accordingly. "
   ]
  },
  {
   "cell_type": "markdown",
   "metadata": {},
   "source": []
  }
 ],
 "metadata": {
  "kernelspec": {
   "display_name": "data-work-env",
   "language": "python",
   "name": "python3"
  },
  "language_info": {
   "codemirror_mode": {
    "name": "ipython",
    "version": 3
   },
   "file_extension": ".py",
   "mimetype": "text/x-python",
   "name": "python",
   "nbconvert_exporter": "python",
   "pygments_lexer": "ipython3",
   "version": "3.9.20"
  }
 },
 "nbformat": 4,
 "nbformat_minor": 2
}

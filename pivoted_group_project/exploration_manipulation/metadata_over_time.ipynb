{
 "cells": [
  {
   "cell_type": "code",
   "execution_count": null,
   "metadata": {},
   "outputs": [],
   "source": [
    "import pandas as pd\n",
    "import altair as alt"
   ]
  },
  {
   "cell_type": "code",
   "execution_count": null,
   "metadata": {},
   "outputs": [],
   "source": [
    "batting_df = pd.read_csv('../combined_data/batting_combined_fill_na.csv')"
   ]
  },
  {
   "cell_type": "code",
   "execution_count": null,
   "metadata": {},
   "outputs": [],
   "source": [
    "batting_df['missing_value_count'] = batting_df.isnull().sum(axis=1)"
   ]
  },
  {
   "cell_type": "code",
   "execution_count": null,
   "metadata": {},
   "outputs": [],
   "source": [
    "# grouped_by_year_df = batting_df.groupby('Year').mean().reset_index()\n",
    "# grouped_by_year_df\n",
    "\n",
    "numeric_columns = batting_df.select_dtypes(include='number').columns\n",
    "grouped_by_year_df = batting_df.groupby('Year', as_index=False)[numeric_columns].mean()"
   ]
  },
  {
   "cell_type": "markdown",
   "metadata": {},
   "source": [
    "# Notes:\n",
    "# Yosef- I used altair to create the same plot. We are able to see the same information, but in a more interactive way."
   ]
  },
  {
   "cell_type": "code",
   "execution_count": null,
   "metadata": {},
   "outputs": [],
   "source": [
    "import altair as alt\n",
    "\n",
    "grouped_by_league_year_df = batting_df.groupby(['League', 'Year'])['missing_value_count'].mean().reset_index()\n",
    "\n",
    "chart = alt.Chart(grouped_by_league_year_df).mark_line(point=True).encode(\n",
    "    x='Year:O',\n",
    "    y='missing_value_count:Q',\n",
    "    color='League:N',\n",
    "    tooltip=['League', 'Year', 'missing_value_count']\n",
    ").properties(\n",
    "    title='Average Missing Values Over Time by League - Altair',\n",
    "    width=800,\n",
    "    height=400\n",
    ").interactive()\n",
    "\n",
    "chart"
   ]
  },
  {
   "cell_type": "code",
   "execution_count": null,
   "metadata": {},
   "outputs": [],
   "source": [
    "# # Plot the average batting age over time\n",
    "# plt.figure(figsize=(10, 6))\n",
    "# plt.plot(grouped_by_year_df['Year'], grouped_by_year_df['BatAge'], m  arker='o')\n",
    "# plt.title('Average Batting Age Over Time')\n",
    "# plt.xlabel('Year')\n",
    "# plt.ylabel('Average Batting Age')\n",
    "# plt.grid(True)\n",
    "# plt.show()\n",
    "\n",
    "# # Plot the average runs per game over time\n",
    "# plt.figure(figsize=(10, 6))\n",
    "# plt.plot(grouped_by_year_df['Year'], grouped_by_year_df['R/G'], marker='o')\n",
    "# plt.title('Average Runs Per Game Over Time')\n",
    "# plt.xlabel('Year')\n",
    "# plt.ylabel('Average Runs Per Game')\n",
    "# plt.grid(True)\n",
    "# plt.show()\n",
    "\n",
    "# # Plot the average number of home runs over time\n",
    "# plt.figure(figsize=(10, 6))\n",
    "# plt.plot(grouped_by_year_df['Year'], grouped_by_year_df['HR'], marker='o')\n",
    "# plt.title('Average Number of Home Runs Over Time')\n",
    "# plt.xlabel('Year')\n",
    "# plt.ylabel('Average Number of Home Runs')\n",
    "# plt.grid(True)\n",
    "# plt.show()"
   ]
  },
  {
   "cell_type": "code",
   "execution_count": null,
   "metadata": {},
   "outputs": [],
   "source": [
    "# import altair as alt\n",
    "\n",
    "# # Create an Altair chart for the average batting age over time\n",
    "# bat_age_chart = alt.Chart(grouped_by_year_df).mark_line(point=True).encode(\n",
    "#     x='Year:O',\n",
    "#     y='BatAge:Q',\n",
    "#     tooltip=['Year', 'BatAge']\n",
    "# ).properties(\n",
    "#     title='Average Batting Age Over Time - Altair',\n",
    "#     width=800,\n",
    "#     height=400\n",
    "# ).interactive()\n",
    "\n",
    "# # Create an Altair chart for the average runs per game over time\n",
    "# runs_per_game_chart = alt.Chart(grouped_by_year_df).mark_line(point=True).encode(\n",
    "#     x='Year:O',\n",
    "#     y='R/G:Q',\n",
    "#     tooltip=['Year', 'R/G']\n",
    "# ).properties(\n",
    "#     title='Average Runs Per Game Over Time - Altair',\n",
    "#     width=800,\n",
    "#     height=400\n",
    "# ).interactive()\n",
    "\n",
    "# # Create an Altair chart for the average number of home runs over time\n",
    "# home_runs_chart = alt.Chart(grouped_by_year_df).mark_line(point=True).encode(\n",
    "#     x='Year:O',\n",
    "#     y='HR:Q',\n",
    "#     tooltip=['Year', 'HR']\n",
    "# ).properties(\n",
    "#     title='Average Number of Home Runs Over Time - Altair',\n",
    "#     width=800,\n",
    "#     height=400\n",
    "# ).interactive()\n",
    "\n",
    "# # Display the charts\n",
    "# bat_age_chart & runs_per_game_chart & home_runs_chart"
   ]
  },
  {
   "cell_type": "markdown",
   "metadata": {},
   "source": [
    "- ## Players League Quanity of Publications Over Time\n",
    "    - 2 visualizations; one through matplotlib and one through altair"
   ]
  },
  {
   "cell_type": "code",
   "execution_count": null,
   "metadata": {},
   "outputs": [],
   "source": [
    "import pandas as pd\n",
    "import matplotlib.pyplot as plt\n",
    "\n",
    "# Load the data\n",
    "pl_data_df = pd.read_csv('../chroniclingamerica_csv/pl_data.csv')\n",
    "\n",
    "# Ensure the 'Date' column is in datetime format\n",
    "pl_data_df['Date'] = pd.to_datetime(pl_data_df['date'])\n",
    "\n",
    "# Group by year and count the number of publications\n",
    "pl_data_df['Year'] = pl_data_df['Date'].dt.year\n",
    "publications_per_year = pl_data_df.groupby('Year').size().reset_index(name='Quantity')\n",
    "\n",
    "# Plot the time series\n",
    "plt.figure(figsize=(10, 6))\n",
    "plt.plot(publications_per_year['Year'], publications_per_year['Quantity'], marker='o')\n",
    "plt.title('Quantity of Publications Over Time - PL Data')\n",
    "plt.xlabel('Year')\n",
    "plt.ylabel('Quantity of Publications')\n",
    "plt.grid(True)\n",
    "plt.show()"
   ]
  },
  {
   "cell_type": "code",
   "execution_count": null,
   "metadata": {},
   "outputs": [],
   "source": [
    "import pandas as pd\n",
    "import altair as alt\n",
    "\n",
    "# Load the data\n",
    "pl_data_df = pd.read_csv('../chroniclingamerica_csv/pl_data.csv')\n",
    "\n",
    "# Ensure the 'Date' column is in datetime format\n",
    "pl_data_df['Date'] = pd.to_datetime(pl_data_df['date'])\n",
    "\n",
    "# Group by year and count the number of publications\n",
    "pl_data_df['Year'] = pl_data_df['Date'].dt.year\n",
    "publications_per_year = pl_data_df.groupby('Year').size().reset_index(name='Quantity')\n",
    "\n",
    "# Create the Altair chart\n",
    "chart = alt.Chart(publications_per_year).mark_line(point=True).encode(\n",
    "    x='Year:O',\n",
    "    y='Quantity:Q',\n",
    "    tooltip=['Year', 'Quantity']\n",
    ").properties(\n",
    "    title='Quantity of Publications Over Time - Altair PL Data',\n",
    "    width=800,\n",
    "    height=400\n",
    ").interactive()\n",
    "\n",
    "chart"
   ]
  },
  {
   "cell_type": "code",
   "execution_count": null,
   "metadata": {},
   "outputs": [],
   "source": [
    "# Enable the use of larger datasets in Altair\n",
    "alt.data_transformers.disable_max_rows()\n",
    "\n",
    "# Define the file paths and their corresponding labels\n",
    "file_paths = {\n",
    "    '../chroniclingamerica_csv/pl_data.csv': 'PL',\n",
    "    '../chroniclingamerica_csv/nnl_data.csv': 'NNL',\n",
    "    '../chroniclingamerica_csv/fl_data.csv': 'FL',\n",
    "    '../chroniclingamerica_csv/ecl_data.csv': 'ECL',\n",
    "    '../chroniclingamerica_csv/aa_data.csv': 'AA'\n",
    "}\n",
    "\n",
    "# Initialize an empty DataFrame to store all data\n",
    "all_data = pd.DataFrame()\n",
    "\n",
    "# Load and concatenate data from all CSV files\n",
    "for file_path, label in file_paths.items():\n",
    "    df = pd.read_csv(file_path, skiprows=1, names=['Newspaper', 'League', 'Date', 'URL'])\n",
    "    if label == 'AA':\n",
    "        df = df[(df['Date'] >= '1881-01-01') & (df['Date'] <= '1900-12-31')]  # Filter by active years in aa_data.csv\n",
    "    df['Source'] = label  # Add a column to identify the source file\n",
    "    all_data = pd.concat([all_data, df], ignore_index=True)\n",
    "\n",
    "# Ensure the 'Date' column is in datetime format\n",
    "all_data['Date'] = pd.to_datetime(all_data['Date'], errors='coerce')\n",
    "\n",
    "# Drop rows with invalid dates\n",
    "all_data = all_data.dropna(subset=['Date'])\n",
    "\n",
    "# Group by year, newspaper, league, and source, and count the number of publications\n",
    "all_data['Year'] = all_data['Date'].dt.year\n",
    "publications_per_year = all_data.groupby(['Year', 'Newspaper', 'League', 'Source']).size().reset_index(name='Quantity')"
   ]
  },
  {
   "cell_type": "code",
   "execution_count": null,
   "metadata": {},
   "outputs": [],
   "source": [
    "import altair as alt\n",
    "\n",
    "# Create a selection object\n",
    "selection = alt.selection_multi(fields=['League'], bind='legend')\n",
    "\n",
    "# Create the Altair dot plot with colors representing different leagues\n",
    "chart = alt.Chart(publications_per_year).mark_circle(size=60).encode(\n",
    "    x='Year:O',\n",
    "    y=alt.Y('Quantity:Q', scale=alt.Scale(domain=[0, 800])),  # Set the y-axis scale domain\n",
    "    color=alt.Color('League:N', scale=alt.Scale(scheme='category10'), legend=alt.Legend(title=\"League\", orient=\"top-right\")),  # Use a categorical color scheme and place the legend at the top right\n",
    "    tooltip=['Year', 'Quantity', 'Newspaper', 'League', 'Source'],\n",
    "    opacity=alt.condition(selection, alt.value(1), alt.value(0.05))  # Adjust opacity based on selection\n",
    ").properties(\n",
    "    title='Quantity of Publications Over Time - Altair Data',\n",
    "    width=800,\n",
    "    height=400\n",
    ").add_selection(\n",
    "    selection\n",
    ").interactive()\n",
    "\n",
    "chart"
   ]
  },
  {
   "cell_type": "markdown",
   "metadata": {},
   "source": [
    "### The above plot is interactive. Try clicking on individual leagues in the legend."
   ]
  },
  {
   "cell_type": "code",
   "execution_count": null,
   "metadata": {},
   "outputs": [],
   "source": []
  }
 ],
 "metadata": {
  "kernelspec": {
   "display_name": "is310venv",
   "language": "python",
   "name": "python3"
  },
  "language_info": {
   "codemirror_mode": {
    "name": "ipython",
    "version": 3
   },
   "file_extension": ".py",
   "mimetype": "text/x-python",
   "name": "python",
   "nbconvert_exporter": "python",
   "pygments_lexer": "ipython3",
   "version": "3.13.0"
  }
 },
 "nbformat": 4,
 "nbformat_minor": 2
}

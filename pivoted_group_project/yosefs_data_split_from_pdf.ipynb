{
 "cells": [
  {
   "cell_type": "code",
   "execution_count": 20,
   "metadata": {},
   "outputs": [],
   "source": [
    "import pdfplumber\n",
    "import pandas as pd\n",
    "\n",
    "# Function to extract text from PDF\n",
    "def extract_text_from_pdf(pdf_path):\n",
    "    text = \"\"\n",
    "    with pdfplumber.open(pdf_path) as pdf:\n",
    "        for page in pdf.pages:\n",
    "            text += page.extract_text() + \"\\n\"\n",
    "    return text\n",
    "\n",
    "# Function to split text into sections\n",
    "def split_text_into_sections(text):\n",
    "    sections = {\n",
    "        \"Detailed Standings\": [],\n",
    "        \"Standard Batting\": [],\n",
    "        \"Pitching\": []\n",
    "    }\n",
    "    current_section = None\n",
    "\n",
    "    for line in text.splitlines():\n",
    "        if \"Detailed Standings\" in line:\n",
    "            current_section = \"Detailed Standings\"\n",
    "        elif \"Standard Batting\" in line:\n",
    "            current_section = \"Standard Batting\"\n",
    "        elif \"Pitching\" in line:\n",
    "            current_section = \"Pitching\"\n",
    "        \n",
    "        if current_section:\n",
    "            sections[current_section].append(line)\n",
    "    \n",
    "    return sections\n",
    "\n",
    "# Function to save sections to CSV\n",
    "def save_sections_to_csv(sections):\n",
    "    for section, lines in sections.items():\n",
    "        # Skip the section title\n",
    "        data = \"\\n\".join(lines[1:])\n",
    "        # Save to CSV\n",
    "        with open(f\"{section.lower().replace(' ', '_')}.csv\", \"w\") as f:\n",
    "            f.write(data)\n",
    "\n",
    "# Main function\n",
    "def main():\n",
    "    pdf_path = \"INACTIVE MAJOR LEAGUES (1871-1930).PDF\"\n",
    "    text = extract_text_from_pdf(pdf_path)\n",
    "    sections = split_text_into_sections(text)\n",
    "    save_sections_to_csv(sections)\n",
    "\n",
    "if __name__ == \"__main__\":\n",
    "    main()"
   ]
  }
 ],
 "metadata": {
  "kernelspec": {
   "display_name": "base",
   "language": "python",
   "name": "python3"
  },
  "language_info": {
   "codemirror_mode": {
    "name": "ipython",
    "version": 3
   },
   "file_extension": ".py",
   "mimetype": "text/x-python",
   "name": "python",
   "nbconvert_exporter": "python",
   "pygments_lexer": "ipython3",
   "version": "3.12.2"
  }
 },
 "nbformat": 4,
 "nbformat_minor": 2
}

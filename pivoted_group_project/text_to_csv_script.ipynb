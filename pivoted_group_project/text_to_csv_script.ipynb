{
 "cells": [
  {
   "cell_type": "code",
   "execution_count": 2,
   "metadata": {},
   "outputs": [],
   "source": [
    "import pandas as pd\n",
    "import re"
   ]
  },
  {
   "cell_type": "code",
   "execution_count": 8,
   "metadata": {},
   "outputs": [],
   "source": [
    "import numpy as np"
   ]
  },
  {
   "cell_type": "code",
   "execution_count": 76,
   "metadata": {},
   "outputs": [],
   "source": [
    "import pandas as pd\n",
    "import numpy as np\n",
    "\n",
    "def parse_baseball_data(file_path):\n",
    "    # Define the standard columns\n",
    "    all_columns = [\n",
    "        \"Year\", \"League\", \"Rk\", \"Tm\", \"W\", \"L\", \"W-L%\", \"GB\", \"GBsum\", \"R\", \"RA\",\n",
    "        \"Rdiff\", \"SOS\", \"SRS\", \"pythWL\", \"Luck\", \"vEast\", \"vCent\", \"vWest\", \"Inter\",\n",
    "        \"Home\", \"Road\", \"ExInn\", \"1Run\", \"vRHP\", \"vLHP\", \"≥.500\", \"<.500\"\n",
    "    ]\n",
    "    \n",
    "    # Read the file and split by double line breaks\n",
    "    with open(file_path, 'r') as f:\n",
    "        data = f.read()\n",
    "    sections = data.split(\"\\n\\n\")  # Split by double line breaks\n",
    "    \n",
    "    parsed_data = []\n",
    "    \n",
    "    for section in sections:\n",
    "        lines = section.strip().split(\"\\n\")\n",
    "        if len(lines) < 2:\n",
    "            continue  # Skip sections without enough data\n",
    "        \n",
    "        # Extract year and league from the first line\n",
    "        header_line = lines[0]\n",
    "        year, league = header_line.split(maxsplit=1)\n",
    "        \n",
    "        # Extract column headers from the second line\n",
    "        column_headers = lines[1].split(\",\")\n",
    "        \n",
    "        # Ensure column headers are not included as data rows\n",
    "        data_rows = lines[2:]\n",
    "        \n",
    "        # Parse data rows\n",
    "        for row in data_rows:\n",
    "            row_values = row.split(\",\")\n",
    "            row_dict = dict(zip(column_headers, row_values))\n",
    "            row_dict[\"Year\"] = year\n",
    "            row_dict[\"League\"] = league\n",
    "            \n",
    "            # Fill missing columns\n",
    "            for col in all_columns:\n",
    "                if col not in row_dict:\n",
    "                    row_dict[col] = np.nan\n",
    "            \n",
    "            parsed_data.append(row_dict)\n",
    "    \n",
    "    # Create the DataFrame\n",
    "    final_df = pd.DataFrame(parsed_data, columns=all_columns)\n",
    "    return final_df\n"
   ]
  },
  {
   "cell_type": "code",
   "execution_count": 78,
   "metadata": {},
   "outputs": [
    {
     "name": "stdout",
     "output_type": "stream",
     "text": [
      "   Year       League Rk                       Tm   W   L  W-L%    GB GBsum  \\\n",
      "0  1930  NNL Season:  1          St. Louis Stars  69  25  .734    --         \n",
      "1  1930  NNL Season:  2     Kansas City Monarchs  40  23  .635  13.5  13.5   \n",
      "2  1930  NNL Season:  3            Detroit Stars  52  37  .584  14.5  15.5   \n",
      "3  1930  NNL Season:  4  Chicago American Giants  53  49  .520  20.0  32.0   \n",
      "4  1930  NNL Season:  5  Birmingham Black Barons  46  48  .489  23.0  44.0   \n",
      "\n",
      "     R  ... vWest Inter Home Road ExInn 1Run vRHP vLHP ≥.500 <.500  \n",
      "0  7.8  ...   NaN   NaN  NaN  NaN   NaN  NaN  NaN  NaN   NaN   NaN  \n",
      "1  5.8  ...   NaN   NaN  NaN  NaN   NaN  NaN  NaN  NaN   NaN   NaN  \n",
      "2  5.2  ...   NaN   NaN  NaN  NaN   NaN  NaN  NaN  NaN   NaN   NaN  \n",
      "3  4.3  ...   NaN   NaN  NaN  NaN   NaN  NaN  NaN  NaN   NaN   NaN  \n",
      "4  4.8  ...   NaN   NaN  NaN  NaN   NaN  NaN  NaN  NaN   NaN   NaN  \n",
      "\n",
      "[5 rows x 28 columns]\n"
     ]
    }
   ],
   "source": [
    "\n",
    "# Path to the data file\n",
    "file_path = 'MLB_Detailed_Standings.txt'\n",
    "\n",
    "# Parse the data\n",
    "df = parse_baseball_data(file_path)\n",
    "\n",
    "# Display the resulting DataFrame\n",
    "print(df.head())\n",
    "\n",
    "# Save to a CSV file (optional)\n",
    "df.to_csv(\"parsed_baseball_data.csv\", index=False)"
   ]
  },
  {
   "cell_type": "code",
   "execution_count": null,
   "metadata": {},
   "outputs": [],
   "source": [
    "df_1930 = df[df.Year == '1930']"
   ]
  },
  {
   "cell_type": "code",
   "execution_count": 90,
   "metadata": {},
   "outputs": [
    {
     "name": "stdout",
     "output_type": "stream",
     "text": [
      "DataFrame successfully exported to 1910_data.txt\n"
     ]
    }
   ],
   "source": [
    "output_file_path = '1910_data.txt'\n",
    "df_1910.to_csv(output_file_path, sep='\\t', index=False)\n",
    "\n",
    "print(f\"DataFrame successfully exported to {output_file_path}\")"
   ]
  },
  {
   "cell_type": "code",
   "execution_count": null,
   "metadata": {},
   "outputs": [],
   "source": []
  }
 ],
 "metadata": {
  "kernelspec": {
   "display_name": ".venv",
   "language": "python",
   "name": "python3"
  },
  "language_info": {
   "codemirror_mode": {
    "name": "ipython",
    "version": 3
   },
   "file_extension": ".py",
   "mimetype": "text/x-python",
   "name": "python",
   "nbconvert_exporter": "python",
   "pygments_lexer": "ipython3",
   "version": "3.9.6"
  }
 },
 "nbformat": 4,
 "nbformat_minor": 2
}
